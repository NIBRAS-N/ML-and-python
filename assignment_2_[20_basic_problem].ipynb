{
  "nbformat": 4,
  "nbformat_minor": 0,
  "metadata": {
    "colab": {
      "provenance": []
    },
    "kernelspec": {
      "name": "python3",
      "display_name": "Python 3"
    },
    "language_info": {
      "name": "python"
    }
  },
  "cells": [
    {
      "cell_type": "markdown",
      "source": [
        "# 1. Write a program that swaps the values of two variables."
      ],
      "metadata": {
        "id": "HvYqNzLV6BYD"
      }
    },
    {
      "cell_type": "code",
      "source": [
        "# with 2 integer variable\n",
        "var1 = 1\n",
        "var2 = 3\n",
        "\n",
        "var1 = var1+var2\n",
        "var2 = var1-var2\n",
        "var1 = var1-var2\n",
        "\n",
        "print(\"var1 = \",var1)\n",
        "print(\"var2 = \",var2)"
      ],
      "metadata": {
        "colab": {
          "base_uri": "https://localhost:8080/"
        },
        "id": "tVqRczvP5_WS",
        "outputId": "ab87edd1-3fef-477c-8de2-45232b460aba"
      },
      "execution_count": 3,
      "outputs": [
        {
          "output_type": "stream",
          "name": "stdout",
          "text": [
            "var1 =  3\n",
            "var2 =  1\n"
          ]
        }
      ]
    },
    {
      "cell_type": "code",
      "execution_count": 5,
      "metadata": {
        "colab": {
          "base_uri": "https://localhost:8080/"
        },
        "id": "QEwl29oJ51JU",
        "outputId": "b7011013-0614-4a1c-d61f-6d981911ad27"
      },
      "outputs": [
        {
          "output_type": "stream",
          "name": "stdout",
          "text": [
            "var1 =  cd\n",
            "var2 =  abc\n"
          ]
        }
      ],
      "source": [
        "# without integer variable:\n",
        "\n",
        "var1 = \"abc\"\n",
        "var2 = \"cd\"\n",
        "\n",
        "var1 , var2 = var2 , var1\n",
        "\n",
        "print(\"var1 = \",var1)\n",
        "print(\"var2 = \",var2)\n",
        "\n"
      ]
    },
    {
      "cell_type": "code",
      "source": [
        "# using temp:\n",
        "var1 =  \"abc\"\n",
        "var2 = 3\n",
        "\n",
        "temp = var1\n",
        "var1=var2\n",
        "var2=temp\n",
        "\n",
        "print(\"var1 = \",var1)\n",
        "print(\"var2 = \",var2)"
      ],
      "metadata": {
        "colab": {
          "base_uri": "https://localhost:8080/"
        },
        "id": "xhWUf9F7DzHz",
        "outputId": "0d9dfbcf-5d07-442a-b02b-f5c12c398b76"
      },
      "execution_count": 6,
      "outputs": [
        {
          "output_type": "stream",
          "name": "stdout",
          "text": [
            "var1 =  3\n",
            "var2 =  abc\n"
          ]
        }
      ]
    },
    {
      "cell_type": "markdown",
      "source": [
        "# 2. Write a program that calculates the area of a rectangle given its length and width."
      ],
      "metadata": {
        "id": "KlWSaBijDyva"
      }
    },
    {
      "cell_type": "code",
      "source": [
        "var1 = int(input(\"input the width of rectangle \"))\n",
        "var2 = int(input(\"input the length of rectangle \"))\n",
        "\n",
        "area = var1 * var2\n",
        "# f\"area is {area}\"\n",
        "print(\"areas is\", area)"
      ],
      "metadata": {
        "colab": {
          "base_uri": "https://localhost:8080/",
          "height": 70
        },
        "id": "kyjhDnlYESey",
        "outputId": "58e80939-5c33-45ce-e05d-00a5e026f5c4"
      },
      "execution_count": 11,
      "outputs": [
        {
          "name": "stdout",
          "output_type": "stream",
          "text": [
            "input the width of rectangle 5\n",
            "input the length of rectangle 5\n"
          ]
        },
        {
          "output_type": "execute_result",
          "data": {
            "text/plain": [
              "'area is 25'"
            ],
            "application/vnd.google.colaboratory.intrinsic+json": {
              "type": "string"
            }
          },
          "metadata": {},
          "execution_count": 11
        }
      ]
    },
    {
      "cell_type": "markdown",
      "source": [
        "# 3. Write a program that converts temperature from Fahrenheit to Celsius.\n",
        "\n",
        "- equation for converting fahrenheit to celcius:\n",
        "    - `Celsius = (Fahrenheit - 32) * 5/9`\n",
        "\n",
        "- equation for converting celcius to fahrenheit:\n",
        "  - `Fahrenheit = Celsius * 9/5 + 32`"
      ],
      "metadata": {
        "id": "Xi47s0sPDv_o"
      }
    },
    {
      "cell_type": "code",
      "source": [
        "def farToCel(degInFar):\n",
        "  return (degInFar - 32) * 5/9\n",
        "\n",
        "var1 = int(input(\"input the temperature in Fahrenheit \"))\n",
        "\n",
        "\n",
        "print(farToCel(var1))\n",
        "\n"
      ],
      "metadata": {
        "colab": {
          "base_uri": "https://localhost:8080/"
        },
        "id": "-Eqs6cQnGM3Y",
        "outputId": "fb018fe7-d2d4-427b-c38e-af8bc948bd90"
      },
      "execution_count": 14,
      "outputs": [
        {
          "output_type": "stream",
          "name": "stdout",
          "text": [
            "input the temperature in Fahrenheit 99\n",
            "37.22222222222222\n"
          ]
        }
      ]
    },
    {
      "cell_type": "markdown",
      "source": [
        "# 4. Write a program that calculates the volume of a sphere given its radius.\n",
        "\n",
        "- Volume of spheres:\n",
        "  - `4/3 pi * r^3`"
      ],
      "metadata": {
        "id": "C3kfY8s-HsBH"
      }
    },
    {
      "cell_type": "code",
      "source": [
        "import math\n",
        "\n",
        "def volOfSpheres(radius):\n",
        "  return 4/3 * math.pi * radius**3\n",
        "\n",
        "\n",
        "var1 = int(input(\"input the radius of spheres \"))\n",
        "\n",
        "print(\"volume of sphere is :\" , volOfSpheres(var1))"
      ],
      "metadata": {
        "colab": {
          "base_uri": "https://localhost:8080/"
        },
        "id": "2Ayr1j6MHo2i",
        "outputId": "df8c5953-f69e-432c-a030-0d5d97a7f6cb"
      },
      "execution_count": 19,
      "outputs": [
        {
          "output_type": "stream",
          "name": "stdout",
          "text": [
            "input the radius of spheres 5\n",
            "volume of sphere is : 523.5987755982989\n"
          ]
        }
      ]
    },
    {
      "cell_type": "markdown",
      "source": [
        "# 5. Write a program that finds the average of three numbers."
      ],
      "metadata": {
        "id": "vYMskYqQJwC6"
      }
    },
    {
      "cell_type": "code",
      "source": [
        "var1 = 4\n",
        "var2 = 5\n",
        "var3 = 6\n",
        "\n",
        "print(\"avg of 3 numbers are : \",(var1+var2+var3)/3)\n"
      ],
      "metadata": {
        "colab": {
          "base_uri": "https://localhost:8080/"
        },
        "id": "t--UoAR-JkfI",
        "outputId": "f795055c-354d-4627-eaf5-0d2ced1d0c9a"
      },
      "execution_count": 20,
      "outputs": [
        {
          "output_type": "stream",
          "name": "stdout",
          "text": [
            "avg of 3 numbers are :  5.0\n"
          ]
        }
      ]
    },
    {
      "cell_type": "markdown",
      "source": [
        "# 6.Write a program that determines if a number is even or odd."
      ],
      "metadata": {
        "id": "pYS_hTp1Np0r"
      }
    },
    {
      "cell_type": "code",
      "source": [
        "var1 = int(input(\"input a number \"))\n",
        "if(var1 % 2 == 1):\n",
        "  print(\"Its odd number\")\n",
        "else:\n",
        "  print(\"Its even number\")\n"
      ],
      "metadata": {
        "colab": {
          "base_uri": "https://localhost:8080/"
        },
        "id": "6pm_ho8WNl9-",
        "outputId": "16b1a0ba-1747-4cce-d46b-ad7877e6d662"
      },
      "execution_count": 21,
      "outputs": [
        {
          "output_type": "stream",
          "name": "stdout",
          "text": [
            "input a number6\n",
            "Its even number\n"
          ]
        }
      ]
    },
    {
      "cell_type": "markdown",
      "source": [
        "# 7. Write a program that finds the maximum of three numbers."
      ],
      "metadata": {
        "id": "hbm22RmTVUYw"
      }
    },
    {
      "cell_type": "code",
      "source": [
        "var1 =5\n",
        "var2 = 6\n",
        "var3 = 7\n",
        "\n",
        "max(var1,max(var2,var3))\n"
      ],
      "metadata": {
        "colab": {
          "base_uri": "https://localhost:8080/"
        },
        "id": "5FRwxxLEVXiN",
        "outputId": "ec1634fa-bc51-43c3-d707-372f75cb8826"
      },
      "execution_count": 22,
      "outputs": [
        {
          "output_type": "execute_result",
          "data": {
            "text/plain": [
              "7"
            ]
          },
          "metadata": {},
          "execution_count": 22
        }
      ]
    },
    {
      "cell_type": "markdown",
      "source": [
        "# 8. Write a program that determines if a year is a leap year or not.\n",
        "- A year is a leap year if it is divisible by 4.\n",
        "  - However, if a year is divisible by 100, it is not a leap year, unless it is also divisible by 400."
      ],
      "metadata": {
        "id": "ixcFBTrQVtV0"
      }
    },
    {
      "cell_type": "code",
      "source": [
        "def checkLeapYear(year):\n",
        "  if year%4==0:\n",
        "    if year%100 != 0 or year%400==0 :\n",
        "      print(\"Its a leap year\")\n",
        "    else:\n",
        "      print(\"It's not leap year\")\n",
        "  else:\n",
        "    print(\"It's not leap year\")\n",
        "\n",
        "checkLeapYear(int(input(\"enter any year\")))"
      ],
      "metadata": {
        "colab": {
          "base_uri": "https://localhost:8080/"
        },
        "id": "IcRHZtjuVwGK",
        "outputId": "6b7a037d-fc88-4560-ebde-30abeab5dece"
      },
      "execution_count": 27,
      "outputs": [
        {
          "output_type": "stream",
          "name": "stdout",
          "text": [
            "enter any year2024\n",
            "Its a leap year\n"
          ]
        }
      ]
    },
    {
      "cell_type": "markdown",
      "source": [
        "# 9. Write a program that determines if a number is positive, negative, or zero."
      ],
      "metadata": {
        "id": "abZCMuLVbUHl"
      }
    },
    {
      "cell_type": "code",
      "source": [
        "var1 = int(input(\"enter a number\"))\n",
        "\n",
        "if var1>0:\n",
        "  print(\"positive\")\n",
        "elif var1<0:\n",
        "  print(\"negative\")\n",
        "else:\n",
        "  print(\"zero\")"
      ],
      "metadata": {
        "colab": {
          "base_uri": "https://localhost:8080/"
        },
        "id": "0V04X-lUbTNo",
        "outputId": "f0c586f7-e8cd-4b8b-b759-a98f1978a316"
      },
      "execution_count": 30,
      "outputs": [
        {
          "output_type": "stream",
          "name": "stdout",
          "text": [
            "enter a number-5\n",
            "negative\n"
          ]
        }
      ]
    },
    {
      "cell_type": "markdown",
      "source": [
        "# 10. Write a program that calculates the grade based on a given percentage."
      ],
      "metadata": {
        "id": "qepI4EO2c0w_"
      }
    },
    {
      "cell_type": "code",
      "source": [
        "var1 = int(input(f\"give the persent %\"))\n",
        "if var1>=80:\n",
        "  print(\"A+\")\n",
        "elif var1<80 and var1>=70:\n",
        "  print(\"A\")\n",
        "elif var1<70 and var1>=60:\n",
        "  print(\"A-\")\n",
        "elif var1<60 and var1>=50:\n",
        "  print(\"B+\")\n",
        "elif var1<50 and var1>=40:\n",
        "  print(\"B\")\n",
        "else:\n",
        "  print(\"fail\")\n",
        "\n",
        "\n",
        "\n"
      ],
      "metadata": {
        "colab": {
          "base_uri": "https://localhost:8080/"
        },
        "id": "7nm4srdsdAYm",
        "outputId": "6e1aa771-0665-402b-907f-5f4948a83a9f"
      },
      "execution_count": 63,
      "outputs": [
        {
          "output_type": "stream",
          "name": "stdout",
          "text": [
            "give the persent %8\n",
            "fail\n"
          ]
        }
      ]
    },
    {
      "cell_type": "markdown",
      "source": [
        "# 11. Write a program that prints the first `n` natural numbers."
      ],
      "metadata": {
        "id": "EaWHR1_Iod5C"
      }
    },
    {
      "cell_type": "code",
      "source": [
        "n= int(input(\"input a number \"))\n",
        "for i in range(1 , n+1):\n",
        "  print(i)"
      ],
      "metadata": {
        "colab": {
          "base_uri": "https://localhost:8080/"
        },
        "id": "puZz2825odcy",
        "outputId": "6cfaf0f5-c103-4d4e-dc2b-d6da26af2110"
      },
      "execution_count": 38,
      "outputs": [
        {
          "output_type": "stream",
          "name": "stdout",
          "text": [
            "input a number5\n",
            "1\n",
            "2\n",
            "3\n",
            "4\n",
            "5\n"
          ]
        }
      ]
    },
    {
      "cell_type": "markdown",
      "source": [
        "# 12. Write a program that calculates the factorial of a number.\n",
        "\n",
        "- Note: `best way is using dynamic programming and memoization`"
      ],
      "metadata": {
        "id": "IOLsccMjvkwN"
      }
    },
    {
      "cell_type": "code",
      "source": [
        "n = int(input(\"enter a number \"))\n",
        "if n==0:\n",
        "   print(1)\n",
        "else:\n",
        "  j=1\n",
        "  for i in range(1,n+1):\n",
        "    j=j*i\n",
        "  print(j)"
      ],
      "metadata": {
        "colab": {
          "base_uri": "https://localhost:8080/"
        },
        "id": "fX8pi-LWp0wW",
        "outputId": "02679261-ad4e-4e98-9607-de4cb9d7bda7"
      },
      "execution_count": 44,
      "outputs": [
        {
          "output_type": "stream",
          "name": "stdout",
          "text": [
            "enter a number 4\n",
            "24\n"
          ]
        }
      ]
    },
    {
      "cell_type": "markdown",
      "source": [
        "# 13. Write a program that generates a Fibonacci sequence of length `n`."
      ],
      "metadata": {
        "id": "TXVilPOAra--"
      }
    },
    {
      "cell_type": "code",
      "source": [
        "n = int(input(\"enter a number \"))\n",
        "first = 0\n",
        "second = 1\n",
        "temp=0\n",
        "print(\"0\")\n",
        "print(\"1\")\n",
        "for i in range(2,n):\n",
        "  temp=first\n",
        "  first=second\n",
        "  second = temp+second\n",
        "  print(second)"
      ],
      "metadata": {
        "colab": {
          "base_uri": "https://localhost:8080/"
        },
        "id": "kk0nrNvbrcOW",
        "outputId": "e4fde7de-0560-48c4-ed5f-a6c27355bc69"
      },
      "execution_count": 50,
      "outputs": [
        {
          "output_type": "stream",
          "name": "stdout",
          "text": [
            "enter a number 8\n",
            "0\n",
            "1\n",
            "1\n",
            "2\n",
            "3\n",
            "5\n",
            "8\n",
            "13\n"
          ]
        }
      ]
    },
    {
      "cell_type": "markdown",
      "source": [
        "# 14. Write a program that checks if a given number is prime or not.\n",
        "\n",
        "- Note: `best way is usign sieve of erathosthenes`"
      ],
      "metadata": {
        "id": "s3dsGvDjuuZb"
      }
    },
    {
      "cell_type": "code",
      "source": [
        "n = int(input(\"enter a number \"))\n",
        "if(n==1):\n",
        "  print(\"Not Prime\")\n",
        "elif n==2:\n",
        "  print(\"prime\")\n",
        "else:\n",
        "  f=True\n",
        "  for i in range(2,n):\n",
        "    if(n%i==0):\n",
        "      f=False\n",
        "      break\n",
        "\n",
        "  if f==True:\n",
        "    print(\"prime\")\n",
        "  else:\n",
        "    print(\"Not Prime\")"
      ],
      "metadata": {
        "colab": {
          "base_uri": "https://localhost:8080/"
        },
        "id": "R9Fhnp6JuwHn",
        "outputId": "32513481-dd6c-498a-a308-58abbb95e6e1"
      },
      "execution_count": 57,
      "outputs": [
        {
          "output_type": "stream",
          "name": "stdout",
          "text": [
            "enter a number 8\n",
            "Not Prime\n"
          ]
        }
      ]
    },
    {
      "cell_type": "markdown",
      "source": [
        "# 15. Write a program that prints the multiplication table of a given number."
      ],
      "metadata": {
        "id": "nBMzOO4Zw4Rn"
      }
    },
    {
      "cell_type": "code",
      "source": [
        "number = int(input(f\"enter a number \"))\n",
        "print(f\"Multiplication Table for {number}:\")\n",
        "for i in range(1, 11):\n",
        "  print(f\"{number} x {i} = {number * int(i)}\")\n"
      ],
      "metadata": {
        "colab": {
          "base_uri": "https://localhost:8080/"
        },
        "id": "6J7v4l6aw6g3",
        "outputId": "25adfe8e-2662-44dd-dc2c-3602de7a9ad2"
      },
      "execution_count": 61,
      "outputs": [
        {
          "output_type": "stream",
          "name": "stdout",
          "text": [
            "enter a number 6\n",
            "Multiplication Table for 6:\n",
            "6 x 1 = 6\n",
            "6 x 2 = 12\n",
            "6 x 3 = 18\n",
            "6 x 4 = 24\n",
            "6 x 5 = 30\n",
            "6 x 6 = 36\n",
            "6 x 7 = 42\n",
            "6 x 8 = 48\n",
            "6 x 9 = 54\n",
            "6 x 10 = 60\n"
          ]
        }
      ]
    },
    {
      "cell_type": "markdown",
      "source": [
        "# 16. Write a program that finds the sum of all even numbers between 1 and `n`."
      ],
      "metadata": {
        "id": "I_2bqgXeyYdt"
      }
    },
    {
      "cell_type": "code",
      "source": [
        "n = int(input(\"enter a number\"))\n",
        "sum =0;\n",
        "for i in range(0,n+1,2):\n",
        "  sum+=i\n",
        "print(sum)"
      ],
      "metadata": {
        "colab": {
          "base_uri": "https://localhost:8080/"
        },
        "id": "r9r_5MwsyPFc",
        "outputId": "70c00c87-efc5-435a-ca17-1f1d60d1101f"
      },
      "execution_count": 66,
      "outputs": [
        {
          "output_type": "stream",
          "name": "stdout",
          "text": [
            "enter a number6\n",
            "12\n"
          ]
        }
      ]
    },
    {
      "cell_type": "markdown",
      "source": [
        "# 17. Write a program that reverses a given number.\n"
      ],
      "metadata": {
        "id": "V5BFkG2Ry_ae"
      }
    },
    {
      "cell_type": "code",
      "source": [
        "n = int(input(\"input a number\"))\n",
        "temp=1\n",
        "res=0\n",
        "while n!=0:\n",
        "  temp=n%10\n",
        "  res=(res*10)+temp\n",
        "  n=int(n/10)\n",
        "\n",
        "print(res)"
      ],
      "metadata": {
        "colab": {
          "base_uri": "https://localhost:8080/"
        },
        "id": "dqlFzn_OzD4y",
        "outputId": "0c2e8609-634d-41f0-aa3d-dad7319d547d"
      },
      "execution_count": 70,
      "outputs": [
        {
          "output_type": "stream",
          "name": "stdout",
          "text": [
            "input a number897665\n",
            "566798\n"
          ]
        }
      ]
    },
    {
      "cell_type": "markdown",
      "source": [
        "# 18. Write a program that checks if a given string is a palindrome."
      ],
      "metadata": {
        "id": "oWTX8HZe5BVz"
      }
    },
    {
      "cell_type": "code",
      "source": [
        "s = input(\"input a string \")\n",
        "f=True\n",
        "for i in range(0,int(len(s)/2)):\n",
        "  if s[i]!=s[len(s)-i-1]:\n",
        "    f=False\n",
        "    break\n",
        "if f==True:\n",
        "  print(\"palindrome\")\n",
        "else:\n",
        "  print(\"not palindrome\")"
      ],
      "metadata": {
        "colab": {
          "base_uri": "https://localhost:8080/"
        },
        "id": "zYFzAggc5AzK",
        "outputId": "12dc216f-537e-4424-d075-b9ee6d89cb28"
      },
      "execution_count": 79,
      "outputs": [
        {
          "output_type": "stream",
          "name": "stdout",
          "text": [
            "input a string abab\n",
            "not palindrome\n"
          ]
        }
      ]
    },
    {
      "cell_type": "markdown",
      "source": [
        "# 19. Write a program that generates a random number and allows the user to guess it.\n",
        "\n"
      ],
      "metadata": {
        "id": "tcMLsoU97quF"
      }
    },
    {
      "cell_type": "code",
      "source": [
        "import random\n",
        "\n",
        "n = int(random.randint(1,10))\n",
        "while True:\n",
        "  z = int(input(\"enter a number \"))\n",
        "  if(z==n):\n",
        "    print(\"You guess the right number\")\n",
        "    break\n",
        "  elif z>n:\n",
        "    print(\"You guessed a Higher number\")\n",
        "  elif z<n:\n",
        "    print(\"You guessed a lower number\")"
      ],
      "metadata": {
        "colab": {
          "base_uri": "https://localhost:8080/"
        },
        "id": "KKJ5nM7O_J5D",
        "outputId": "ae1799fe-40dc-475a-fb57-ed5661a65118"
      },
      "execution_count": 91,
      "outputs": [
        {
          "output_type": "stream",
          "name": "stdout",
          "text": [
            "enter a number 5\n",
            "You guessed a Higher number\n",
            "enter a number 4\n",
            "You guessed a Higher number\n",
            "enter a number 2\n",
            "You guessed a lower number\n",
            "enter a number 3\n",
            "You guess the right number\n"
          ]
        }
      ]
    },
    {
      "cell_type": "markdown",
      "source": [
        "# 20. Write a program that finds the greatest common divisor (GCD) of two numbers."
      ],
      "metadata": {
        "id": "C91Dg8CP_tKR"
      }
    },
    {
      "cell_type": "code",
      "source": [
        "n1 = int(input(\"enter a number\"))\n",
        "n2 = int(input(\"enter another number\"))\n",
        "\n",
        "while n2!=0:\n",
        "  n1,n2 = n2,n1%n2\n",
        "\n",
        "print(\"Gcd is \" , n1)"
      ],
      "metadata": {
        "colab": {
          "base_uri": "https://localhost:8080/"
        },
        "id": "Q3nYznh1_vQ9",
        "outputId": "57c81213-d2c4-4419-fbe1-1a9e6b9630da"
      },
      "execution_count": 99,
      "outputs": [
        {
          "output_type": "stream",
          "name": "stdout",
          "text": [
            "enter a number5\n",
            "enter another number10\n",
            "Gcd is  5\n"
          ]
        }
      ]
    }
  ]
}