{
  "nbformat": 4,
  "nbformat_minor": 0,
  "metadata": {
    "colab": {
      "provenance": []
    },
    "kernelspec": {
      "name": "python3",
      "display_name": "Python 3"
    },
    "language_info": {
      "name": "python"
    }
  },
  "cells": [
    {
      "cell_type": "code",
      "execution_count": null,
      "metadata": {
        "colab": {
          "base_uri": "https://localhost:8080/"
        },
        "id": "OBZEABNcXAK6",
        "outputId": "83e40828-2e86-4a70-f74a-57a8c592d02e"
      },
      "outputs": [
        {
          "output_type": "stream",
          "name": "stdout",
          "text": [
            "nib\n"
          ]
        }
      ],
      "source": [
        "# variable and print\n",
        "name=\"nib\"\n",
        "print(name)"
      ]
    },
    {
      "cell_type": "markdown",
      "source": [
        "# String\n"
      ],
      "metadata": {
        "id": "jQ5wak-LXxbX"
      }
    },
    {
      "cell_type": "code",
      "source": [
        "# slicing\n",
        "msg = \"Hello, World!\"\n",
        "print(msg[2:5])\n",
        "print(msg[-1])\n",
        "\n",
        "s = 'mybacon'\n",
        "s[2:5] #'bac'\n",
        "s[0:2]#'my'\n",
        "\n",
        "s = 'mybacon'\n",
        "s[:2]#'my'\n",
        "s[2:]#'bacon'\n",
        "s[:2] + s[2:]#'mybacon'\n",
        "s[:]#'mybacon'\n",
        "\n",
        "\n",
        "s = 'mybacon'\n",
        "s[-5:-1]#'baco'\n",
        "s[2:6]#'baco'\n",
        "\n",
        "s = '12345' * 5 #'1234512345123451234512345'\n",
        "s[::5]#'11111'\n",
        "s[4::5]#'55555'\n",
        "s[::-5]#'55555'\n",
        "s[::-1]#'5432154321543215432154321'\n",
        "\n",
        "\n",
        "\n",
        "\n",
        "# String length\n",
        "\n",
        "hello = \"Hello, World!\"\n",
        "print(len(hello))\n",
        "\n",
        "# check string\n",
        "\n",
        "s = 'spam'\n",
        "s in 'I saw spamalot!' # True\n",
        "s not in 'I saw The Holy Grail!' # True\n",
        "\n",
        "#formatting\n",
        "\n",
        "name = \"John\"\n",
        "print(\"Hello, %s!\" % name)\n",
        "\n",
        "name = \"John\"\n",
        "age = 23\n",
        "print(\"%s is %d years old.\" % (name, age))\n",
        "\n",
        "# formatting using format() method\n",
        "\n",
        "txt1 = \"My name is {fname}, I'm {age}\".format(fname=\"John\", age=36)\n",
        "txt2 = \"My name is {0}, I'm {1}\".format(\"John\", 36)\n",
        "txt3 = \"My name is {}, I'm {}\".format(\"John\", 36)\n",
        "\n",
        "#join\n",
        "\n",
        "\"#\".join([\"John\", \"Peter\", \"Vicky\"]) #'John#Peter#Vicky'\n",
        "\n",
        "#endsWith\n",
        "\n",
        "\"Hello, world!\".endswith(\"!\")\n",
        "\n",
        "\n",
        "\n",
        "# Input\n",
        "\n",
        "name = input(\"Enter your name: \")\n",
        "#Enter your name: Tom\n",
        "name#'Tom'\n",
        "\n",
        "\n",
        "\n",
        "\n",
        "\n"
      ],
      "metadata": {
        "colab": {
          "base_uri": "https://localhost:8080/"
        },
        "id": "Ij6QJhnoXOBj",
        "outputId": "63b61a2b-6743-4728-dffc-f276199f38b9"
      },
      "execution_count": null,
      "outputs": [
        {
          "output_type": "stream",
          "name": "stdout",
          "text": [
            "llo\n",
            "!\n",
            "13\n",
            "Hello, John!\n",
            "John is 23 years old.\n",
            "My name is John, I'm 36\n"
          ]
        }
      ]
    },
    {
      "cell_type": "markdown",
      "source": [
        "# Python F string\n"
      ],
      "metadata": {
        "id": "oMSpqHoSwfND"
      }
    },
    {
      "cell_type": "code",
      "source": [
        "website = 'Quickref.ME'\n",
        "f\"Hello, {website}\"#\"Hello, Quickref.ME\"\n",
        "\n",
        "num = 10\n",
        "f'{num} + 10 = {num + 10}' #'10 + 10 = 20'\n",
        "\n",
        "f\"\"\"He said {\"I'm John\"}\"\"\"#\"He said I'm John\"\n",
        "\n",
        "f'5 {\"{stars}\"}'#'5 {stars}'\n",
        "f'{{5}} {\"stars\"}' #'{5} stars'\n",
        "\n",
        "name = 'Eric'\n",
        "age = 27\n",
        "f\"\"\"Hello!\n",
        "...     I'm {name}.\n",
        "...     I'm {age}.\"\"\"\n",
        "\n",
        "#\"Hello!\\n    I'm Eric.\\n    I'm 27.\"\n",
        "\n",
        "\n",
        "\n",
        "## Fill align\n",
        "\n",
        "f'{\"text\":10}'     # [width]\n",
        "#'text      '\n",
        "f'{\"test\":*>10}'   # fill left\n",
        "#'******test'\n",
        "f'{\"test\":*<10}'   # fill right\n",
        "#'test******'\n",
        "f'{\"test\":*^10}'   # fill center\n",
        "#'***test***'\n",
        "f'{12345:0>10}'    # fill with numbers\n",
        "#'0000012345'\n",
        "\n",
        "\n",
        "# base convertion\n",
        "\n",
        "f'{10:b}'        # binary type\n",
        "#'1010'\n",
        "f'{10:o}'        # octal type\n",
        "#'12'\n",
        "f'{200:x}'       # hexadecimal type\n",
        "#'c8'\n",
        "f'{200:X}'\n",
        "#'C8'\n",
        "f'{345600000000:e}' # scientific notation\n",
        "#'3.456000e+11'\n",
        "f'{65:c}'       # character type\n",
        "#'A'\n",
        "f'{10:#b}'      # [type] with notation (base)\n",
        "#'0b1010'\n",
        "f'{10:#o}'\n",
        "#'0o12'\n",
        "f'{10:#x}'\n",
        "#'0xa'\n",
        "\n",
        "\n"
      ],
      "metadata": {
        "colab": {
          "base_uri": "https://localhost:8080/",
          "height": 53
        },
        "id": "tZ-eoTX6YC2q",
        "outputId": "1c19d8fe-d93d-4baf-df45-5bfb81b4dd85"
      },
      "execution_count": null,
      "outputs": [
        {
          "name": "stdout",
          "output_type": "stream",
          "text": [
            "enter salol\n"
          ]
        },
        {
          "output_type": "execute_result",
          "data": {
            "text/plain": [
              "'lol'"
            ],
            "application/vnd.google.colaboratory.intrinsic+json": {
              "type": "string"
            }
          },
          "metadata": {},
          "execution_count": 15
        }
      ]
    },
    {
      "cell_type": "markdown",
      "source": [
        "# List\n",
        "---\n",
        "\n",
        "lists are a versatile and commonly used data structure that offer several characteristics:\n",
        "\n",
        "- `Ordered`: Lists maintain the order of elements as they are inserted. Elements are indexed starting from 0, allowing access by index.\n",
        "\n",
        "- `Mutable`: Lists are mutable, meaning you can change, add, or remove elements after the list is created.\n",
        "\n",
        "- `Heterogeneous Elements`: Lists can contain elements of different data types. For example, a single list can hold integers, strings, floats, or even other lists.\n",
        "\n",
        "- `Dynamic`: Lists can dynamically resize, allowing for the addition or removal of elements, making them flexible for handling different amounts of data.\n",
        "\n",
        "- `Iterable`: Lists are iterable, allowing you to iterate through their elements using loops or comprehension."
      ],
      "metadata": {
        "id": "X4Va_kmZ30G5"
      }
    },
    {
      "cell_type": "code",
      "source": [
        "# BAsic Defining\n",
        "\n",
        "li1 = []\n",
        "li1\n",
        "#[]\n",
        "li2 = [4, 5, 6]\n",
        "li2\n",
        "#[4, 5, 6]\n",
        "li3 = list((1, 2, 3))\n",
        "li3\n",
        "#[1, 2, 3]\n",
        "li4 = list(range(1, 11))\n",
        "li4\n",
        "#[1, 2, 3, 4, 5, 6, 7, 8, 9, 10]\n",
        "\n",
        "# append\n",
        "\n",
        "li = []\n",
        "li.append(1)\n",
        "li\n",
        "#[1]\n",
        "li.append(2)\n",
        "li\n",
        "#[1, 2]\n",
        "li.append(4)\n",
        "li\n",
        "#[1, 2, 4]\n",
        "li.append(3)\n",
        "li\n",
        "#[1, 2, 4, 3]\n",
        "\n",
        "\n",
        "#Pop\n",
        "\n",
        "\n",
        "li = ['bread', 'butter', 'milk']\n",
        "li.pop()\n",
        "#'milk'\n",
        "li\n",
        "#['bread', 'butter']\n",
        "del li[0]\n",
        "li\n",
        "#['butter']\n",
        "\n",
        "\n",
        "# Concatenating\n",
        "\n",
        "odd = [1, 3, 5]\n",
        "odd.extend([9, 11, 13])\n",
        "odd\n",
        "#[1, 3, 5, 9, 11, 13]\n",
        "odd = [1, 3, 5]\n",
        "odd + [9, 11, 13]\n",
        "#[1, 3, 5, 9, 11, 13]\n",
        "\n",
        "\n",
        "# generate\n",
        "\n",
        "list(filter(lambda x : x % 2 == 1, range(1, 20)))\n",
        "#[1, 3, 5, 7, 9, 11, 13, 15, 17, 19]\n",
        "\n",
        "[x ** 2 for x in range (1, 11) if  x % 2 == 1]\n",
        "#[1, 9, 25, 49, 81]\n",
        "\n",
        "[x for x in [3, 4, 5, 6, 7] if x > 5]\n",
        "#[6, 7]\n",
        "\n",
        "list(filter(lambda x: x > 5, [3, 4, 5, 6, 7]))\n",
        "#[6, 7]\n",
        "\n",
        "\n",
        "# slicing\n",
        "\n",
        "#syntex\n",
        "# a_list[start:end]\n",
        "# a_list[start:end:step]\n",
        "\n",
        "a = ['spam', 'egg', 'bacon', 'tomato', 'ham', 'lobster']\n",
        "a[2:5]\n",
        "#['bacon', 'tomato', 'ham']\n",
        "a[-5:-2]\n",
        "#['egg', 'bacon', 'tomato']\n",
        "a[1:4]\n",
        "#['egg', 'bacon', 'tomato']\n",
        "\n",
        "# slicing of omitted index\n",
        "\n",
        "a=['spam', 'egg', 'bacon', 'tomato', 'ham', 'lobster']\n",
        "a[0:6:2]\n",
        "#['spam', 'bacon', 'ham']\n",
        "a[1:6:2]\n",
        "#['egg', 'tomato', 'lobster']\n",
        "a[6:0:-2]\n",
        "#['lobster', 'tomato', 'egg']\n",
        "a\n",
        "#['spam', 'egg', 'bacon', 'tomato', 'ham', 'lobster']\n",
        "a[::-1]\n",
        "#['lobster', 'ham', 'tomato', 'bacon', 'egg', 'spam']\n",
        "\n",
        "\n",
        "# sort and reverse and count and repeating\n",
        "\n",
        "li = [3, 1, 3, 2, 5]\n",
        "li.sort()\n",
        "li\n",
        "#[1, 2, 3, 3, 5]\n",
        "li.reverse()\n",
        "li\n",
        "#[5, 3, 3, 2, 1]\n",
        "\n",
        "li.count(3)\n",
        "\n",
        "li = [\"re\"] * 3\n",
        "li\n",
        "#['re', 're', 're']\n",
        "\n",
        "\n"
      ],
      "metadata": {
        "colab": {
          "base_uri": "https://localhost:8080/",
          "height": 35
        },
        "id": "MUDDCoFcw4kS",
        "outputId": "a36ec0d6-cdfe-4653-d1d4-1dc51483eea9"
      },
      "execution_count": null,
      "outputs": [
        {
          "output_type": "execute_result",
          "data": {
            "text/plain": [
              "'C2AA'"
            ],
            "application/vnd.google.colaboratory.intrinsic+json": {
              "type": "string"
            }
          },
          "metadata": {},
          "execution_count": 28
        }
      ]
    },
    {
      "cell_type": "markdown",
      "source": [
        "# Tuples:\n",
        "\n",
        "Tuples in Python share some characteristics with lists but have a few key differences:\n",
        "\n",
        "- `Immutable:` Unlike lists, tuples are immutable, meaning once created, their elements cannot be changed, added, or removed. However, if an element is mutable (e.g., a list within a tuple), the contents of that mutable element can be modified.\n",
        "\n",
        "- `Ordered:` Similar to lists, tuples maintain the order of elements as they are inserted and allow access by index. Elements in a tuple are indexed starting from 0.\n",
        "\n",
        "- `Heterogeneous Elements:` Tuples can contain elements of different data types, just like lists. Elements can be of any data type, including numbers, strings, tuples, lists, or other objects.\n",
        "\n",
        "- `Creation and Use:` Tuples are often used for fixed collections of items where immutability is desired. For instance, they are suitable for representing coordinates, dates, pairs of values, and situations where the data should not be changed accidentally.\n",
        "\n",
        "- `Memory Efficiency:` Tuples generally consume less memory compared to lists because they are immutable and have a fixed size.\n",
        "\n",
        "\n"
      ],
      "metadata": {
        "id": "5h1Amd8hqMou"
      }
    },
    {
      "cell_type": "code",
      "source": [
        "#Similar to List but immutable\n",
        "my_tuple = (1, 2, 3)\n",
        "my_tuple = tuple((1, 2, 3))"
      ],
      "metadata": {
        "colab": {
          "base_uri": "https://localhost:8080/"
        },
        "id": "u9EyOGq-5Obf",
        "outputId": "0d026bbe-81c7-4215-a993-7b343c302d95"
      },
      "execution_count": 10,
      "outputs": [
        {
          "output_type": "execute_result",
          "data": {
            "text/plain": [
              "[1, 4, 5, 6]"
            ]
          },
          "metadata": {},
          "execution_count": 10
        }
      ]
    },
    {
      "cell_type": "markdown",
      "source": [
        "# set\n",
        "\n",
        "\n",
        "Sets in Python have several characteristics:\n",
        "\n",
        "- `Unordered Collection:` Sets are unordered collections of unique elements. They do not maintain the order of insertion of elements.\n",
        "\n",
        "- `Unique Elements:` Sets do not allow duplicate elements. If an element is added to a set that already exists, it won't be added again.\n",
        "\n",
        "- `Mutable:` Sets are mutable, meaning you can add or remove elements after the set is created.\n",
        "\n",
        "- `Iterable:` You can iterate over the elements of a set using loops or comprehensions.\n",
        "\n",
        "- `Membership Testing:` Sets offer fast membership testing. Checking if an element is present in a set is significantly faster than checking in other collections like lists or tuples.\n",
        "\n",
        "- `Mathematical Set Operations:` Sets support various mathematical set operations such as union, intersection, difference, and symmetric difference."
      ],
      "metadata": {
        "id": "IQ3okkrtq6kU"
      }
    },
    {
      "cell_type": "code",
      "source": [
        "set1 = {\"a\", \"b\", \"c\"}\n",
        "set2 = set((\"a\", \"b\", \"c\"))"
      ],
      "metadata": {
        "id": "gbGRgk-ZvFJg"
      },
      "execution_count": null,
      "outputs": []
    },
    {
      "cell_type": "markdown",
      "source": [
        "# Dictionary:\n",
        "\n",
        "- Key: Value pair, JSON like object"
      ],
      "metadata": {
        "id": "1kKIyCzOvPVG"
      }
    },
    {
      "cell_type": "code",
      "source": [
        "empty_dict = {}\n",
        "a = {\"one\": 1, \"two\": 2, \"three\": 3}\n",
        "a[\"one\"]\n",
        "#1\n",
        "a.keys()\n",
        "#dict_keys(['one', 'two', 'three'])\n",
        "a.values()\n",
        "#dict_values([1, 2, 3])\n",
        "a.update({\"four\": 4})\n",
        "a.keys()\n",
        "# dict_keys(['one', 'two', 'three', 'four'])\n",
        "a['four']\n",
        "#4\n"
      ],
      "metadata": {
        "id": "wEXXFN9jvUxK"
      },
      "execution_count": null,
      "outputs": []
    },
    {
      "cell_type": "markdown",
      "source": [
        "# Loops"
      ],
      "metadata": {
        "id": "EBRcMggExolN"
      }
    },
    {
      "cell_type": "code",
      "source": [
        "primes = [2, 3, 5, 7]\n",
        "for prime in primes:\n",
        "    print(prime)\n",
        "\n",
        "animals = [\"dog\", \"cat\", \"mouse\"]\n",
        "# enumerate() adds counter to an iterable\n",
        "for i, value in enumerate(animals):\n",
        "    print(i, value)\n",
        "\n",
        "\n",
        "x = 0\n",
        "while x < 4:\n",
        "    print(x)\n",
        "    x += 1  # Shorthand for x = x + 1\n",
        "\n",
        "\n",
        "x = 0\n",
        "for index in range(10):\n",
        "    x = index * 10\n",
        "    if index == 5:\n",
        "    \tbreak\n",
        "    print(x)\n",
        "\n",
        "\n",
        "# ranges\n",
        "\n",
        "for i in range(4):\n",
        "    print(i) # Prints: 0 1 2 3\n",
        "\n",
        "for i in range(4, 8):\n",
        "    print(i) # Prints: 4 5 6 7\n",
        "\n",
        "for i in range(4, 10, 2):\n",
        "    print(i) # Prints: 4 6 8\n",
        "\n",
        "\n",
        "# with zip\n",
        "\n",
        "words = ['Mon', 'Tue', 'Wed']\n",
        "nums = [1, 2, 3]\n",
        "# Use zip to pack into a tuple list\n",
        "for w, n in zip(words, nums):\n",
        "    print('%d:%s, ' %(n, w)) # 1:Mon, 2:Tue, 3:Wed,\n"
      ],
      "metadata": {
        "colab": {
          "base_uri": "https://localhost:8080/"
        },
        "id": "tZPN9b_nxqn-",
        "outputId": "88e969e9-9382-4db5-c3ea-b26bb22d3c6d"
      },
      "execution_count": 12,
      "outputs": [
        {
          "output_type": "stream",
          "name": "stdout",
          "text": [
            "2\n",
            "3\n",
            "5\n",
            "7\n",
            "0 dog\n",
            "1 cat\n",
            "2 mouse\n",
            "0\n",
            "1\n",
            "2\n",
            "3\n",
            "0\n",
            "10\n",
            "20\n",
            "30\n",
            "40\n"
          ]
        }
      ]
    }
  ]
}