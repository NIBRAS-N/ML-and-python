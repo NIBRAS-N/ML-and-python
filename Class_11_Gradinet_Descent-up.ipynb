{
  "cells": [
    {
      "cell_type": "code",
      "execution_count": null,
      "id": "579da071",
      "metadata": {
        "id": "579da071"
      },
      "outputs": [],
      "source": [
        "import pandas as pd\n",
        "import matplotlib.pyplot as plt"
      ]
    },
    {
      "cell_type": "code",
      "execution_count": null,
      "id": "c7358e84",
      "metadata": {
        "id": "c7358e84"
      },
      "outputs": [],
      "source": [
        "df = pd.read_csv('/content/data2.csv')"
      ]
    },
    {
      "cell_type": "code",
      "execution_count": null,
      "id": "28c8da9f",
      "metadata": {
        "colab": {
          "base_uri": "https://localhost:8080/",
          "height": 423
        },
        "id": "28c8da9f",
        "outputId": "d3c7ba27-569c-44af-a054-ee7831e6a036"
      },
      "outputs": [
        {
          "output_type": "execute_result",
          "data": {
            "text/plain": [
              "            x          y\n",
              "0   48.955889  60.723602\n",
              "1   44.687196  82.892504\n",
              "2   60.297327  97.379897\n",
              "3   45.618644  48.847153\n",
              "4   38.816818  56.877213\n",
              "..        ...        ...\n",
              "94  50.030174  81.536991\n",
              "95  49.239765  72.111832\n",
              "96  50.039576  85.232007\n",
              "97  48.149859  66.224958\n",
              "98  25.128485  53.454394\n",
              "\n",
              "[99 rows x 2 columns]"
            ],
            "text/html": [
              "\n",
              "  <div id=\"df-6e072491-5b31-4f14-9567-40349d54f6fd\" class=\"colab-df-container\">\n",
              "    <div>\n",
              "<style scoped>\n",
              "    .dataframe tbody tr th:only-of-type {\n",
              "        vertical-align: middle;\n",
              "    }\n",
              "\n",
              "    .dataframe tbody tr th {\n",
              "        vertical-align: top;\n",
              "    }\n",
              "\n",
              "    .dataframe thead th {\n",
              "        text-align: right;\n",
              "    }\n",
              "</style>\n",
              "<table border=\"1\" class=\"dataframe\">\n",
              "  <thead>\n",
              "    <tr style=\"text-align: right;\">\n",
              "      <th></th>\n",
              "      <th>x</th>\n",
              "      <th>y</th>\n",
              "    </tr>\n",
              "  </thead>\n",
              "  <tbody>\n",
              "    <tr>\n",
              "      <th>0</th>\n",
              "      <td>48.955889</td>\n",
              "      <td>60.723602</td>\n",
              "    </tr>\n",
              "    <tr>\n",
              "      <th>1</th>\n",
              "      <td>44.687196</td>\n",
              "      <td>82.892504</td>\n",
              "    </tr>\n",
              "    <tr>\n",
              "      <th>2</th>\n",
              "      <td>60.297327</td>\n",
              "      <td>97.379897</td>\n",
              "    </tr>\n",
              "    <tr>\n",
              "      <th>3</th>\n",
              "      <td>45.618644</td>\n",
              "      <td>48.847153</td>\n",
              "    </tr>\n",
              "    <tr>\n",
              "      <th>4</th>\n",
              "      <td>38.816818</td>\n",
              "      <td>56.877213</td>\n",
              "    </tr>\n",
              "    <tr>\n",
              "      <th>...</th>\n",
              "      <td>...</td>\n",
              "      <td>...</td>\n",
              "    </tr>\n",
              "    <tr>\n",
              "      <th>94</th>\n",
              "      <td>50.030174</td>\n",
              "      <td>81.536991</td>\n",
              "    </tr>\n",
              "    <tr>\n",
              "      <th>95</th>\n",
              "      <td>49.239765</td>\n",
              "      <td>72.111832</td>\n",
              "    </tr>\n",
              "    <tr>\n",
              "      <th>96</th>\n",
              "      <td>50.039576</td>\n",
              "      <td>85.232007</td>\n",
              "    </tr>\n",
              "    <tr>\n",
              "      <th>97</th>\n",
              "      <td>48.149859</td>\n",
              "      <td>66.224958</td>\n",
              "    </tr>\n",
              "    <tr>\n",
              "      <th>98</th>\n",
              "      <td>25.128485</td>\n",
              "      <td>53.454394</td>\n",
              "    </tr>\n",
              "  </tbody>\n",
              "</table>\n",
              "<p>99 rows × 2 columns</p>\n",
              "</div>\n",
              "    <div class=\"colab-df-buttons\">\n",
              "\n",
              "  <div class=\"colab-df-container\">\n",
              "    <button class=\"colab-df-convert\" onclick=\"convertToInteractive('df-6e072491-5b31-4f14-9567-40349d54f6fd')\"\n",
              "            title=\"Convert this dataframe to an interactive table.\"\n",
              "            style=\"display:none;\">\n",
              "\n",
              "  <svg xmlns=\"http://www.w3.org/2000/svg\" height=\"24px\" viewBox=\"0 -960 960 960\">\n",
              "    <path d=\"M120-120v-720h720v720H120Zm60-500h600v-160H180v160Zm220 220h160v-160H400v160Zm0 220h160v-160H400v160ZM180-400h160v-160H180v160Zm440 0h160v-160H620v160ZM180-180h160v-160H180v160Zm440 0h160v-160H620v160Z\"/>\n",
              "  </svg>\n",
              "    </button>\n",
              "\n",
              "  <style>\n",
              "    .colab-df-container {\n",
              "      display:flex;\n",
              "      gap: 12px;\n",
              "    }\n",
              "\n",
              "    .colab-df-convert {\n",
              "      background-color: #E8F0FE;\n",
              "      border: none;\n",
              "      border-radius: 50%;\n",
              "      cursor: pointer;\n",
              "      display: none;\n",
              "      fill: #1967D2;\n",
              "      height: 32px;\n",
              "      padding: 0 0 0 0;\n",
              "      width: 32px;\n",
              "    }\n",
              "\n",
              "    .colab-df-convert:hover {\n",
              "      background-color: #E2EBFA;\n",
              "      box-shadow: 0px 1px 2px rgba(60, 64, 67, 0.3), 0px 1px 3px 1px rgba(60, 64, 67, 0.15);\n",
              "      fill: #174EA6;\n",
              "    }\n",
              "\n",
              "    .colab-df-buttons div {\n",
              "      margin-bottom: 4px;\n",
              "    }\n",
              "\n",
              "    [theme=dark] .colab-df-convert {\n",
              "      background-color: #3B4455;\n",
              "      fill: #D2E3FC;\n",
              "    }\n",
              "\n",
              "    [theme=dark] .colab-df-convert:hover {\n",
              "      background-color: #434B5C;\n",
              "      box-shadow: 0px 1px 3px 1px rgba(0, 0, 0, 0.15);\n",
              "      filter: drop-shadow(0px 1px 2px rgba(0, 0, 0, 0.3));\n",
              "      fill: #FFFFFF;\n",
              "    }\n",
              "  </style>\n",
              "\n",
              "    <script>\n",
              "      const buttonEl =\n",
              "        document.querySelector('#df-6e072491-5b31-4f14-9567-40349d54f6fd button.colab-df-convert');\n",
              "      buttonEl.style.display =\n",
              "        google.colab.kernel.accessAllowed ? 'block' : 'none';\n",
              "\n",
              "      async function convertToInteractive(key) {\n",
              "        const element = document.querySelector('#df-6e072491-5b31-4f14-9567-40349d54f6fd');\n",
              "        const dataTable =\n",
              "          await google.colab.kernel.invokeFunction('convertToInteractive',\n",
              "                                                    [key], {});\n",
              "        if (!dataTable) return;\n",
              "\n",
              "        const docLinkHtml = 'Like what you see? Visit the ' +\n",
              "          '<a target=\"_blank\" href=https://colab.research.google.com/notebooks/data_table.ipynb>data table notebook</a>'\n",
              "          + ' to learn more about interactive tables.';\n",
              "        element.innerHTML = '';\n",
              "        dataTable['output_type'] = 'display_data';\n",
              "        await google.colab.output.renderOutput(dataTable, element);\n",
              "        const docLink = document.createElement('div');\n",
              "        docLink.innerHTML = docLinkHtml;\n",
              "        element.appendChild(docLink);\n",
              "      }\n",
              "    </script>\n",
              "  </div>\n",
              "\n",
              "\n",
              "<div id=\"df-c8b3de80-bea0-4ef1-a8e8-f78d2e9f3d03\">\n",
              "  <button class=\"colab-df-quickchart\" onclick=\"quickchart('df-c8b3de80-bea0-4ef1-a8e8-f78d2e9f3d03')\"\n",
              "            title=\"Suggest charts\"\n",
              "            style=\"display:none;\">\n",
              "\n",
              "<svg xmlns=\"http://www.w3.org/2000/svg\" height=\"24px\"viewBox=\"0 0 24 24\"\n",
              "     width=\"24px\">\n",
              "    <g>\n",
              "        <path d=\"M19 3H5c-1.1 0-2 .9-2 2v14c0 1.1.9 2 2 2h14c1.1 0 2-.9 2-2V5c0-1.1-.9-2-2-2zM9 17H7v-7h2v7zm4 0h-2V7h2v10zm4 0h-2v-4h2v4z\"/>\n",
              "    </g>\n",
              "</svg>\n",
              "  </button>\n",
              "\n",
              "<style>\n",
              "  .colab-df-quickchart {\n",
              "      --bg-color: #E8F0FE;\n",
              "      --fill-color: #1967D2;\n",
              "      --hover-bg-color: #E2EBFA;\n",
              "      --hover-fill-color: #174EA6;\n",
              "      --disabled-fill-color: #AAA;\n",
              "      --disabled-bg-color: #DDD;\n",
              "  }\n",
              "\n",
              "  [theme=dark] .colab-df-quickchart {\n",
              "      --bg-color: #3B4455;\n",
              "      --fill-color: #D2E3FC;\n",
              "      --hover-bg-color: #434B5C;\n",
              "      --hover-fill-color: #FFFFFF;\n",
              "      --disabled-bg-color: #3B4455;\n",
              "      --disabled-fill-color: #666;\n",
              "  }\n",
              "\n",
              "  .colab-df-quickchart {\n",
              "    background-color: var(--bg-color);\n",
              "    border: none;\n",
              "    border-radius: 50%;\n",
              "    cursor: pointer;\n",
              "    display: none;\n",
              "    fill: var(--fill-color);\n",
              "    height: 32px;\n",
              "    padding: 0;\n",
              "    width: 32px;\n",
              "  }\n",
              "\n",
              "  .colab-df-quickchart:hover {\n",
              "    background-color: var(--hover-bg-color);\n",
              "    box-shadow: 0 1px 2px rgba(60, 64, 67, 0.3), 0 1px 3px 1px rgba(60, 64, 67, 0.15);\n",
              "    fill: var(--button-hover-fill-color);\n",
              "  }\n",
              "\n",
              "  .colab-df-quickchart-complete:disabled,\n",
              "  .colab-df-quickchart-complete:disabled:hover {\n",
              "    background-color: var(--disabled-bg-color);\n",
              "    fill: var(--disabled-fill-color);\n",
              "    box-shadow: none;\n",
              "  }\n",
              "\n",
              "  .colab-df-spinner {\n",
              "    border: 2px solid var(--fill-color);\n",
              "    border-color: transparent;\n",
              "    border-bottom-color: var(--fill-color);\n",
              "    animation:\n",
              "      spin 1s steps(1) infinite;\n",
              "  }\n",
              "\n",
              "  @keyframes spin {\n",
              "    0% {\n",
              "      border-color: transparent;\n",
              "      border-bottom-color: var(--fill-color);\n",
              "      border-left-color: var(--fill-color);\n",
              "    }\n",
              "    20% {\n",
              "      border-color: transparent;\n",
              "      border-left-color: var(--fill-color);\n",
              "      border-top-color: var(--fill-color);\n",
              "    }\n",
              "    30% {\n",
              "      border-color: transparent;\n",
              "      border-left-color: var(--fill-color);\n",
              "      border-top-color: var(--fill-color);\n",
              "      border-right-color: var(--fill-color);\n",
              "    }\n",
              "    40% {\n",
              "      border-color: transparent;\n",
              "      border-right-color: var(--fill-color);\n",
              "      border-top-color: var(--fill-color);\n",
              "    }\n",
              "    60% {\n",
              "      border-color: transparent;\n",
              "      border-right-color: var(--fill-color);\n",
              "    }\n",
              "    80% {\n",
              "      border-color: transparent;\n",
              "      border-right-color: var(--fill-color);\n",
              "      border-bottom-color: var(--fill-color);\n",
              "    }\n",
              "    90% {\n",
              "      border-color: transparent;\n",
              "      border-bottom-color: var(--fill-color);\n",
              "    }\n",
              "  }\n",
              "</style>\n",
              "\n",
              "  <script>\n",
              "    async function quickchart(key) {\n",
              "      const quickchartButtonEl =\n",
              "        document.querySelector('#' + key + ' button');\n",
              "      quickchartButtonEl.disabled = true;  // To prevent multiple clicks.\n",
              "      quickchartButtonEl.classList.add('colab-df-spinner');\n",
              "      try {\n",
              "        const charts = await google.colab.kernel.invokeFunction(\n",
              "            'suggestCharts', [key], {});\n",
              "      } catch (error) {\n",
              "        console.error('Error during call to suggestCharts:', error);\n",
              "      }\n",
              "      quickchartButtonEl.classList.remove('colab-df-spinner');\n",
              "      quickchartButtonEl.classList.add('colab-df-quickchart-complete');\n",
              "    }\n",
              "    (() => {\n",
              "      let quickchartButtonEl =\n",
              "        document.querySelector('#df-c8b3de80-bea0-4ef1-a8e8-f78d2e9f3d03 button');\n",
              "      quickchartButtonEl.style.display =\n",
              "        google.colab.kernel.accessAllowed ? 'block' : 'none';\n",
              "    })();\n",
              "  </script>\n",
              "</div>\n",
              "\n",
              "  <div id=\"id_f248796c-0d3d-4e7d-99a9-bdb881c177d9\">\n",
              "    <style>\n",
              "      .colab-df-generate {\n",
              "        background-color: #E8F0FE;\n",
              "        border: none;\n",
              "        border-radius: 50%;\n",
              "        cursor: pointer;\n",
              "        display: none;\n",
              "        fill: #1967D2;\n",
              "        height: 32px;\n",
              "        padding: 0 0 0 0;\n",
              "        width: 32px;\n",
              "      }\n",
              "\n",
              "      .colab-df-generate:hover {\n",
              "        background-color: #E2EBFA;\n",
              "        box-shadow: 0px 1px 2px rgba(60, 64, 67, 0.3), 0px 1px 3px 1px rgba(60, 64, 67, 0.15);\n",
              "        fill: #174EA6;\n",
              "      }\n",
              "\n",
              "      [theme=dark] .colab-df-generate {\n",
              "        background-color: #3B4455;\n",
              "        fill: #D2E3FC;\n",
              "      }\n",
              "\n",
              "      [theme=dark] .colab-df-generate:hover {\n",
              "        background-color: #434B5C;\n",
              "        box-shadow: 0px 1px 3px 1px rgba(0, 0, 0, 0.15);\n",
              "        filter: drop-shadow(0px 1px 2px rgba(0, 0, 0, 0.3));\n",
              "        fill: #FFFFFF;\n",
              "      }\n",
              "    </style>\n",
              "    <button class=\"colab-df-generate\" onclick=\"generateWithVariable('df')\"\n",
              "            title=\"Generate code using this dataframe.\"\n",
              "            style=\"display:none;\">\n",
              "\n",
              "  <svg xmlns=\"http://www.w3.org/2000/svg\" height=\"24px\"viewBox=\"0 0 24 24\"\n",
              "       width=\"24px\">\n",
              "    <path d=\"M7,19H8.4L18.45,9,17,7.55,7,17.6ZM5,21V16.75L18.45,3.32a2,2,0,0,1,2.83,0l1.4,1.43a1.91,1.91,0,0,1,.58,1.4,1.91,1.91,0,0,1-.58,1.4L9.25,21ZM18.45,9,17,7.55Zm-12,3A5.31,5.31,0,0,0,4.9,8.1,5.31,5.31,0,0,0,1,6.5,5.31,5.31,0,0,0,4.9,4.9,5.31,5.31,0,0,0,6.5,1,5.31,5.31,0,0,0,8.1,4.9,5.31,5.31,0,0,0,12,6.5,5.46,5.46,0,0,0,6.5,12Z\"/>\n",
              "  </svg>\n",
              "    </button>\n",
              "    <script>\n",
              "      (() => {\n",
              "      const buttonEl =\n",
              "        document.querySelector('#id_f248796c-0d3d-4e7d-99a9-bdb881c177d9 button.colab-df-generate');\n",
              "      buttonEl.style.display =\n",
              "        google.colab.kernel.accessAllowed ? 'block' : 'none';\n",
              "\n",
              "      buttonEl.onclick = () => {\n",
              "        google.colab.notebook.generateWithVariable('df');\n",
              "      }\n",
              "      })();\n",
              "    </script>\n",
              "  </div>\n",
              "\n",
              "    </div>\n",
              "  </div>\n"
            ]
          },
          "metadata": {},
          "execution_count": 3
        }
      ],
      "source": [
        "df"
      ]
    },
    {
      "cell_type": "code",
      "execution_count": null,
      "id": "39a441a6",
      "metadata": {
        "id": "39a441a6"
      },
      "outputs": [],
      "source": [
        "x = df['x']\n",
        "y = df['y']"
      ]
    },
    {
      "cell_type": "code",
      "execution_count": null,
      "id": "59ec8738",
      "metadata": {
        "colab": {
          "base_uri": "https://localhost:8080/",
          "height": 447
        },
        "id": "59ec8738",
        "outputId": "1cc98a5c-ef83-47ba-844c-84308aa5de04"
      },
      "outputs": [
        {
          "output_type": "execute_result",
          "data": {
            "text/plain": [
              "<matplotlib.collections.PathCollection at 0x7b2efeaa2cb0>"
            ]
          },
          "metadata": {},
          "execution_count": 5
        },
        {
          "output_type": "display_data",
          "data": {
            "text/plain": [
              "<Figure size 640x480 with 1 Axes>"
            ],
            "image/png": "[encoded data removed]"
          },
          "metadata": {}
        }
      ],
      "source": [
        "plt.scatter(x,y)"
      ]
    },
    {
      "cell_type": "markdown",
      "id": "73b7f215",
      "metadata": {
        "id": "73b7f215"
      },
      "source": [
        "# Gradient Decent"
      ]
    },
    {
      "cell_type": "code",
      "execution_count": null,
      "id": "b6bc9e3a",
      "metadata": {
        "id": "b6bc9e3a"
      },
      "outputs": [],
      "source": [
        "m = c = 0\n",
        "l = .0001\n",
        "n = len(x)\n",
        "\n",
        "for i in range(500):\n",
        "    ypred =( m*x) + c\n",
        "    Dm = (-2/n)* sum(x*(y-ypred))\n",
        "    Dc = (-2/n)* sum((y-ypred))\n",
        "\n",
        "    #update\n",
        "    m = m - (l*Dm)\n",
        "    c = c - (l*Dc)"
      ]
    },
    {
      "cell_type": "code",
      "execution_count": null,
      "id": "e566b121",
      "metadata": {
        "colab": {
          "base_uri": "https://localhost:8080/"
        },
        "id": "e566b121",
        "outputId": "a46ce782-90e2-4888-f66c-00a28c8b8b82"
      },
      "outputs": [
        {
          "output_type": "execute_result",
          "data": {
            "text/plain": [
              "1.4803580539891306"
            ]
          },
          "metadata": {},
          "execution_count": 7
        }
      ],
      "source": [
        "m"
      ]
    },
    {
      "cell_type": "code",
      "execution_count": null,
      "id": "408df8a3",
      "metadata": {
        "colab": {
          "base_uri": "https://localhost:8080/"
        },
        "id": "408df8a3",
        "outputId": "02fdf225-b804-4578-a064-e00ba33f1b22"
      },
      "outputs": [
        {
          "output_type": "execute_result",
          "data": {
            "text/plain": [
              "0.06532717814865903"
            ]
          },
          "metadata": {},
          "execution_count": 8
        }
      ],
      "source": [
        "c"
      ]
    },
    {
      "cell_type": "code",
      "execution_count": null,
      "id": "984f2fb7",
      "metadata": {
        "colab": {
          "base_uri": "https://localhost:8080/"
        },
        "id": "984f2fb7",
        "outputId": "f9488cbf-f038-4021-edfa-10859ccb37ce"
      },
      "outputs": [
        {
          "output_type": "execute_result",
          "data": {
            "text/plain": [
              "72.53757174949655"
            ]
          },
          "metadata": {},
          "execution_count": 9
        }
      ],
      "source": [
        "48.955889 * m + c"
      ]
    },
    {
      "cell_type": "code",
      "execution_count": null,
      "id": "c95f645e",
      "metadata": {
        "colab": {
          "base_uri": "https://localhost:8080/"
        },
        "id": "c95f645e",
        "outputId": "fb2939b7-fe72-4eeb-fae6-d90428eec464"
      },
      "outputs": [
        {
          "output_type": "stream",
          "name": "stdout",
          "text": [
            "0.7424335285442664 0.014629895049575754\n",
            "1.1126970531591416 0.021962519495058154\n",
            "1.2973530613155333 0.025655870599552186\n",
            "1.3894434413955663 0.0275342538687902\n",
            "1.4353697670010162 0.028507481513901093\n",
            "1.4582732927878312 0.029029292372442533\n",
            "1.4696949563898791 0.029325973726768786\n",
            "1.4753904198682315 0.02951037889671325\n",
            "1.4782301298722174 0.0296387897539973\n",
            "1.4796456270098886 0.029739275026144867\n",
            "1.4803508449518048 0.029825833065392132\n",
            "1.4807018345728706 0.029905445088297247\n",
            "1.4808761645055069 0.029981592746402\n",
            "1.4809623912494785 0.03005601239860092\n",
            "1.4810046794387284 0.030129569996634964\n",
            "1.481025054728025 0.03020269740538055\n",
            "1.481034501686347 0.030275610003205215\n",
            "1.4810384985052363 0.03034841520296925\n",
            "1.4810397772520703 0.03042116657329655\n",
            "1.4810397004553588 0.03049389082977374\n",
            "1.481038947631264 0.03056660129592062\n",
            "1.4810378576660637 0.030639304616405304\n",
            "1.4810365995681134 0.030712004105038864\n",
            "1.4810352576247567 0.03078470141447726\n",
            "1.481033873871527 0.030857397368930135\n",
            "1.4810324692722603 0.03093009237944684\n",
            "1.4810310542819782 0.031002786651026657\n",
            "1.4810296341147784 0.031075480285908192\n",
            "1.4810282113710196 0.03114817333508155\n",
            "1.4810267873475451 0.03122086582397834\n",
            "1.481025362691113 0.03129355776528371\n",
            "1.481023937724272 0.03136624916532594\n",
            "1.481022512607883 0.03143894002726301\n",
            "1.48102108742217 0.03151163035267184\n",
            "1.4810196622071419 0.031584320142340847\n",
            "1.4810182369827516 0.03165700939666519\n",
            "1.4810168117589502 0.03172969811584392\n",
            "1.4810153865407003 0.03180238629997828\n",
            "1.4810139613304771 0.031875073949120744\n",
            "1.4810125361295146 0.03194776106329944\n",
            "1.4810111109384283 0.032020447642530384\n",
            "1.4810096857575252 0.03209313368682352\n",
            "1.4810082605869583 0.032165819196185795\n",
            "1.481006835426804 0.03223850417062264\n",
            "1.4810054102771 0.03231118861013874\n",
            "1.4810039851378654 0.032383872514738406\n",
            "1.4810025600091097 0.03245655588442576\n",
            "1.4810011348908374 0.03252923871920483\n",
            "1.4809997097830507 0.03260192101907959\n",
            "1.480998284685751 0.03267460278405401\n",
            "1.4809968595989385 0.032747284014132044\n",
            "1.4809954345226135 0.03281996470931762\n",
            "1.4809940094567762 0.032892644869614684\n",
            "1.4809925844014264 0.032965324495027176\n",
            "1.4809911593565643 0.03303800358555903\n",
            "1.4809897343221896 0.03311068214121418\n",
            "1.4809883092983023 0.03318336016199657\n",
            "1.4809868842849023 0.03325603764791013\n",
            "1.4809854592819898 0.0333287145989588\n",
            "1.4809840342895644 0.03340139101514652\n",
            "1.4809826093076262 0.033474066896477216\n",
            "1.480981184336175 0.033546742242954834\n",
            "1.4809797593752108 0.0336194170545833\n",
            "1.4809783344247336 0.03369209133136656\n",
            "1.4809769094847431 0.03376476507330854\n",
            "1.4809754845552392 0.03383743828041319\n",
            "1.4809740596362222 0.03391011095268444\n",
            "1.4809726347276917 0.03398278309012622\n",
            "1.4809712098296477 0.03405545469274247\n",
            "1.4809697849420902 0.03412812576053713\n",
            "1.480968360065019 0.03420079629351413\n",
            "1.480966935198434 0.03427346629167741\n",
            "1.4809655103423354 0.0343461357550309\n",
            "1.480964085496723 0.034418804683578545\n",
            "1.4809626606615964 0.034491473077324274\n",
            "1.480961235836956 0.034564140936272025\n",
            "1.4809598110228013 0.034636808260425735\n",
            "1.4809583862191324 0.034709475049789336\n",
            "1.4809569614259495 0.03478214130436677\n",
            "1.480955536643252 0.034854807024161966\n",
            "1.4809541118710403 0.03492747220917886\n",
            "1.480952687109314 0.035000136859421396\n",
            "1.480951262358073 0.0350728009748935\n",
            "1.4809498376173176 0.03514546455559912\n",
            "1.4809484128870474 0.03521812760154217\n",
            "1.4809469881672623 0.03529079011272661\n",
            "1.4809455634579625 0.03536345208915636\n",
            "1.4809441387591475 0.03543611353083536\n",
            "1.4809427140708176 0.035508774437767544\n",
            "1.4809412893929725 0.035581434809956854\n",
            "1.4809398647256125 0.035654094647407215\n",
            "1.480938440068737 0.03572675395012257\n",
            "1.4809370154223462 0.035799412718106854\n",
            "1.48093559078644 0.035872070951364\n",
            "1.4809341661610185 0.03594472864989794\n",
            "1.4809327415460813 0.03601738581371262\n",
            "1.4809313169416285 0.036090042442811957\n",
            "1.48092989234766 0.0361626985371999\n",
            "1.4809284677641754 0.03623535409688038\n",
            "1.4809270431911752 0.03630800912185734\n",
            "1.480925618628659 0.036380663612134705\n",
            "1.4809241940766267 0.036453317567716415\n",
            "1.4809227695350782 0.0365259709886064\n",
            "1.4809213450040137 0.036598623874808604\n",
            "1.480919920483433 0.03667127622632695\n",
            "1.4809184959733357 0.03674392804316538\n",
            "1.480917071473722 0.036816579325327836\n",
            "1.4809156469845919 0.03688923007281824\n",
            "1.4809142225059453 0.036961880285640535\n",
            "1.480912798037782 0.037034529963798656\n",
            "1.480911373580102 0.03710717910729653\n",
            "1.4809099491329052 0.0371798277161381\n",
            "1.4809085246961915 0.0372524757903273\n",
            "1.480907100269961 0.03732512332986806\n",
            "1.4809056758542132 0.03739777033476431\n",
            "1.4809042514489483 0.037470416805019995\n",
            "1.4809028270541664 0.037543062740639045\n",
            "1.480901402669867 0.0376157081416254\n",
            "1.4808999782960504 0.03768835300798299\n",
            "1.4808985539327164 0.03776099733971575\n",
            "1.480897129579865 0.03783364113682762\n",
            "1.4808957052374958 0.037906284399322525\n",
            "1.4808942809056092 0.0379789271272044\n",
            "1.4808928565842048 0.03805156932047719\n",
            "1.4808914322732825 0.03812421097914481\n",
            "1.4808900079728422 0.038196852103211214\n",
            "1.480888583682884 0.03826949269268033\n",
            "1.4808871594034079 0.038342132747556094\n",
            "1.4808857351344136 0.038414772267842436\n",
            "1.480884310875901 0.0384874112535433\n",
            "1.4808828866278705 0.038560049704662605\n",
            "1.4808814623903215 0.038632687621204295\n",
            "1.4808800381632539 0.0387053250031723\n",
            "1.4808786139466679 0.03877796185057056\n",
            "1.4808771897405633 0.038850598163403\n",
            "1.48087576554494 0.03892323394167356\n",
            "1.480874341359798 0.038995869185386174\n",
            "1.4808729171851371 0.039068503894544776\n",
            "1.4808714930209574 0.0391411380691533\n",
            "1.480870068867259 0.03921377170921568\n",
            "1.4808686447240413 0.03928640481473585\n",
            "1.4808672205913045 0.03935903738571774\n",
            "1.4808657964690484 0.03943166942216529\n",
            "1.4808643723572732 0.03950430092408243\n",
            "1.4808629482559785 0.03957693189147309\n",
            "1.4808615241651646 0.03964956232434121\n",
            "1.4808601000848312 0.03972219222269073\n",
            "1.480858676014978 0.03979482158652557\n",
            "1.4808572519556051 0.03986745041584967\n",
            "1.4808558279067126 0.03994007871066697\n",
            "1.4808544038683003 0.04001270647098139\n",
            "1.4808529798403682 0.04008533369679687\n",
            "1.480851555822916 0.04015796038811735\n",
            "1.480850131815944 0.04023058654494675\n",
            "1.4808487078194514 0.04030321216728902\n",
            "1.480847283833439 0.04037583725514808\n",
            "1.4808458598579062 0.04044846180852787\n",
            "1.480844435892853 0.04052108582743232\n",
            "1.4808430119382794 0.04059370931186537\n",
            "1.4808415879941854 0.04066633226183095\n",
            "1.4808401640605706 0.04073895467733299\n",
            "1.4808387401374352 0.040811576558375424\n",
            "1.4808373162247792 0.04088419790496219\n",
            "1.4808358923226024 0.04095681871709722\n",
            "1.4808344684309047 0.041029438994784444\n",
            "1.480833044549686 0.041102058738027795\n",
            "1.480831620678946 0.04117467794683121\n",
            "1.4808301968186852 0.04124729662119862\n",
            "1.4808287729689031 0.04131991476113396\n",
            "1.4808273491295998 0.04139253236664116\n",
            "1.480825925300775 0.04146514943772415\n",
            "1.4808245014824288 0.04153776597438687\n",
            "1.4808230776745612 0.04161038197663325\n",
            "1.480821653877172 0.04168299744446722\n",
            "1.4808202300902609 0.04175561237789272\n",
            "1.4808188063138281 0.04182822677691368\n",
            "1.4808173825478737 0.041900840641534036\n",
            "1.4808159587923972 0.04197345397175772\n",
            "1.480814535047399 0.04204606676758865\n",
            "1.4808131113128786 0.042118679029030784\n",
            "1.4808116875888362 0.04219129075608804\n",
            "1.4808102638752714 0.042263901948764344\n",
            "1.4808088401721844 0.04233651260706364\n",
            "1.480807416479575 0.04240912273098986\n",
            "1.4808059927974433 0.04248173232054694\n",
            "1.480804569125789 0.0425543413757388\n",
            "1.480803145464612 0.04262694989656938\n",
            "1.4808017218139125 0.04269955788304261\n",
            "1.4808002981736903 0.04277216533516243\n",
            "1.480798874543945 0.04284477225293277\n",
            "1.480797450924677 0.042917378636357556\n",
            "1.480796027315886 0.042989984485440724\n",
            "1.4807946037175719 0.04306258980018621\n",
            "1.4807931801297347 0.04313519458059794\n",
            "1.4807917565523745 0.043207798826679855\n",
            "1.4807903329854908 0.04328040253843588\n",
            "1.4807889094290838 0.043353005715869954\n",
            "1.4807874858831533 0.043425608358986\n",
            "1.4807860623476994 0.04349821046778796\n",
            "1.480784638822722 0.043570812042279757\n",
            "1.4807832153082208 0.043643413082465325\n",
            "1.480781791804196 0.043716013588348604\n",
            "1.480780368310647 0.04378861355993352\n",
            "1.4807789448275743 0.043861212997224\n",
            "1.4807775213549776 0.04393381190022399\n",
            "1.480776097892857 0.04400641026893741\n",
            "1.4807746744412122 0.0440790081033682\n",
            "1.480773251000043 0.04415160540352028\n",
            "1.4807718275693498 0.044224202169397604\n",
            "1.480770404149132 0.04429679840100408\n",
            "1.48076898073939 0.04436939409834365\n",
            "1.4807675573401233 0.044441989261420255\n",
            "1.480766133951332 0.04451458389023781\n",
            "1.4807647105730162 0.04458717798480026\n",
            "1.4807632872051755 0.04465977154511153\n",
            "1.48076186384781 0.044732364571175555\n",
            "1.4807604405009196 0.04480495706299627\n",
            "1.4807590171645042 0.04487754902057759\n",
            "1.4807575938385638 0.04495014044392347\n",
            "1.4807561705230983 0.04502273133303782\n",
            "1.4807547472181075 0.04509532168792459\n",
            "1.4807533239235915 0.045167911508587705\n",
            "1.4807519006395502 0.04524050079503109\n",
            "1.4807504773659834 0.045313089547258684\n",
            "1.480749054102891 0.04538567776527441\n",
            "1.4807476308502732 0.045458265449082214\n",
            "1.4807462076081295 0.045530852598686014\n",
            "1.48074478437646 0.04560343921408975\n",
            "1.480743361155265 0.045676025295297344\n",
            "1.480741937944544 0.045748610842312736\n",
            "1.4807405147442967 0.04582119585513986\n",
            "1.4807390915545235 0.045893780333782636\n",
            "1.4807376683752242 0.045966364278245006\n",
            "1.4807362452063988 0.046038947688530896\n",
            "1.480734822048047 0.04611153056464424\n",
            "1.480733398900169 0.04618411290658896\n",
            "1.4807319757627644 0.046256694714369\n",
            "1.4807305526358332 0.046329275987988285\n",
            "1.4807291295193756 0.046401856727450744\n",
            "1.4807277064133912 0.04647443693276031\n",
            "1.4807262833178803 0.04654701660392091\n",
            "1.4807248602328422 0.046619595740936486\n",
            "1.4807234371582774 0.04669217434381096\n",
            "1.4807220140941855 0.046764752412548266\n",
            "1.4807205910405665 0.04683732994715234\n",
            "1.4807191679974205 0.0469099069476271\n",
            "1.4807177449647473 0.04698248341397649\n",
            "1.4807163219425468 0.047055059346204436\n",
            "1.4807148989308188 0.04712763474431487\n",
            "1.4807134759295635 0.04720020960831171\n",
            "1.4807120529387807 0.047272783938198906\n",
            "1.4807106299584702 0.04734535773398038\n",
            "1.480709206988632 0.047417930995660065\n",
            "1.4807077840292662 0.047490503723241886\n",
            "1.4807063610803726 0.04756307591672978\n",
            "1.480704938141951 0.04763564757612767\n",
            "1.4807035152140013 0.04770821870143949\n",
            "1.4807020922965235 0.04778078929266918\n",
            "1.4807006693895177 0.04785335934982066\n",
            "1.4806992464929838 0.047925928872897865\n",
            "1.4806978236069215 0.04799849786190472\n",
            "1.4806964007313308 0.048071066316845164\n",
            "1.4806949778662115 0.04814363423772312\n",
            "1.4806935550115639 0.04821620162454252\n",
            "1.4806921321673876 0.0482887684773073\n",
            "1.4806907093336827 0.04836133479602139\n",
            "1.480689286510449 0.04843390058068871\n",
            "1.4806878636976866 0.04850646583131319\n",
            "1.4806864408953953 0.04857903054789877\n",
            "1.480685018103575 0.04865159473044938\n",
            "1.4806835953222255 0.04872415837896894\n",
            "1.4806821725513468 0.04879672149346139\n",
            "1.4806807497909389 0.04886928407393066\n",
            "1.4806793270410017 0.048941846120380675\n",
            "1.4806779043015352 0.04901440763281537\n",
            "1.4806764815725393 0.04908696861123867\n",
            "1.4806750588540138 0.049159529055654516\n",
            "1.4806736361459587 0.049232088966066824\n",
            "1.480672213448374 0.04930464834247953\n",
            "1.4806707907612595 0.04937720718489656\n",
            "1.4806693680846152 0.049449765493321855\n",
            "1.480667945418441 0.049522323267759336\n",
            "1.4806665227627367 0.04959488050821293\n",
            "1.4806651001175024 0.049667437214686576\n",
            "1.480663677482738 0.0497399933871842\n",
            "1.4806622548584434 0.049812549025709724\n",
            "1.4806608322446182 0.04988510413026708\n",
            "1.4806594096412629 0.04995765870086021\n",
            "1.4806579870483771 0.050030212737493036\n",
            "1.4806565644659608 0.05010276624016948\n",
            "1.480655141894014 0.05017531920889348\n",
            "1.4806537193325364 0.05024787164366897\n",
            "1.480652296781528 0.05032042354449987\n",
            "1.4806508742409887 0.050392974911390116\n",
            "1.4806494517109188 0.05046552574434363\n",
            "1.4806480291913178 0.050538076043364355\n",
            "1.4806466066821855 0.050610625808456204\n",
            "1.4806451841835222 0.050683175039623114\n",
            "1.4806437616953276 0.05075572373686902\n",
            "1.4806423392176018 0.05082827190019784\n",
            "1.4806409167503447 0.05090081952961351\n",
            "1.4806394942935561 0.05097336662511996\n",
            "1.4806380718472358 0.05104591318672112\n",
            "1.480636649411384 0.051118459214420923\n",
            "1.4806352269860006 0.05119100470822329\n",
            "1.4806338045710854 0.05126354966813215\n",
            "1.4806323821666383 0.051336094094151435\n",
            "1.4806309597726592 0.051408637986285075\n",
            "1.4806295373891483 0.051481181344537\n",
            "1.4806281150161054 0.05155372416891113\n",
            "1.4806266926535303 0.0516262664594114\n",
            "1.4806252703014229 0.051698808216041746\n",
            "1.480623847959783 0.05177134943880609\n",
            "1.480622425628611 0.05184389012770836\n",
            "1.4806210033079064 0.051916430282752495\n",
            "1.4806195809976694 0.05198896990394241\n",
            "1.4806181586978997 0.05206150899128204\n",
            "1.4806167364085974 0.05213404754477532\n",
            "1.4806153141297624 0.052206585564426165\n",
            "1.4806138918613945 0.05227912305023851\n",
            "1.4806124696034937 0.052351660002216284\n",
            "1.4806110473560599 0.05242419642036342\n",
            "1.480609625119093 0.05249673230468384\n",
            "1.4806082028925929 0.052569267655181474\n",
            "1.4806067806765595 0.052641802471860254\n",
            "1.480605358470993 0.05271433675472411\n",
            "1.4806039362758932 0.052786870503776964\n",
            "1.4806025140912595 0.05285940371902275\n",
            "1.4806010919170927 0.052931936400465396\n",
            "1.480599669753392 0.05300446854810883\n",
            "1.4805982476001578 0.053077000161956975\n",
            "1.4805968254573898 0.05314953124201377\n",
            "1.4805954033250879 0.053222061788283134\n",
            "1.480593981203252 0.053294591800769\n",
            "1.4805925590918825 0.0533671212794753\n",
            "1.4805911369909786 0.05343965022440595\n",
            "1.4805897149005407 0.05351217863556489\n",
            "1.4805882928205685 0.05358470651295605\n",
            "1.480586870751062 0.053657233856583345\n",
            "1.4805854486920211 0.05372976066645071\n",
            "1.4805840266434458 0.053802286942562075\n",
            "1.4805826046053359 0.053874812684921364\n",
            "1.4805811825776913 0.05394733789353251\n",
            "1.4805797605605122 0.05401986256839944\n",
            "1.4805783385537983 0.05409238670952608\n",
            "1.4805769165575495 0.054164910316916365\n",
            "1.480575494571766 0.05423743339057421\n",
            "1.4805740725964474 0.054309955930503556\n",
            "1.4805726506315935 0.05438247793670832\n",
            "1.4805712286772046 0.054454999409192434\n",
            "1.4805698067332804 0.05452752034795983\n",
            "1.480568384799821 0.05460004075301443\n",
            "1.480566962876826 0.05467256062436017\n",
            "1.480565540964296 0.05474507996200097\n",
            "1.48056411906223 0.05481759876594076\n",
            "1.4805626971706287 0.05489011703618347\n",
            "1.4805612752894917 0.05496263477273302\n",
            "1.4805598534188187 0.05503515197559335\n",
            "1.48055843155861 0.055107668644768376\n",
            "1.4805570097088654 0.05518018478026203\n",
            "1.4805555878695849 0.05525270038207824\n",
            "1.4805541660407682 0.055325215450220934\n",
            "1.4805527442224153 0.05539772998469404\n",
            "1.4805513224145264 0.05547024398550149\n",
            "1.480549900617101 0.055542757452647196\n",
            "1.4805484788301393 0.0556152703861351\n",
            "1.480547057053641 0.05568778278596912\n",
            "1.4805456352876063 0.055760294652153194\n",
            "1.4805442135320348 0.05583280598469124\n",
            "1.4805427917869267 0.05590531678358719\n",
            "1.4805413700522818 0.05597782704884497\n",
            "1.4805399483281 0.05605033678046851\n",
            "1.4805385266143816 0.05612284597846173\n",
            "1.480537104911126 0.05619535464282857\n",
            "1.4805356832183334 0.05626786277357295\n",
            "1.4805342615360038 0.05634037037069879\n",
            "1.4805328398641366 0.05641287743421003\n",
            "1.4805314182027323 0.05648538396411058\n",
            "1.4805299965517906 0.05655788996040439\n",
            "1.4805285749113115 0.056630395423095364\n",
            "1.4805271532812947 0.056702900352187446\n",
            "1.4805257316617404 0.056775404747684555\n",
            "1.4805243100526484 0.056847908609590624\n",
            "1.4805228884540185 0.056920411937909574\n",
            "1.4805214668658508 0.05699291473264533\n",
            "1.4805200452881453 0.057065416993801826\n",
            "1.4805186237209018 0.057137918721382984\n",
            "1.4805172021641202 0.05721041991539273\n",
            "1.4805157806178004 0.057282920575835\n",
            "1.4805143590819425 0.05735542070271371\n",
            "1.4805129375565462 0.05742792029603279\n",
            "1.4805115160416116 0.05750041935579616\n",
            "1.4805100945371386 0.05757291788200776\n",
            "1.4805086730431267 0.05764541587467151\n",
            "1.4805072515595765 0.05771791333379133\n",
            "1.4805058300864875 0.05779041025937116\n",
            "1.4805044086238597 0.057862906651414914\n",
            "1.4805029871716933 0.05793540250992653\n",
            "1.4805015657299876 0.05800789783490993\n",
            "1.480500144298743 0.058080392626369035\n",
            "1.4804987228779596 0.05815288688430778\n",
            "1.4804973014676368 0.05822538060873009\n",
            "1.4804958800677748 0.05829787379963988\n",
            "1.4804944586783735 0.05837036645704109\n",
            "1.4804930372994327 0.058442858580937646\n",
            "1.4804916159309527 0.05851535017133347\n",
            "1.480490194572933 0.05858784122823248\n",
            "1.4804887732253738 0.058660331751638616\n",
            "1.4804873518882748 0.058732821741555793\n",
            "1.480485930561636 0.058805311197987944\n",
            "1.4804845092454575 0.058877800120938996\n",
            "1.480483087939739 0.05895028851041287\n",
            "1.4804816666444804 0.059022776366413496\n",
            "1.4804802453596817 0.0590952636889448\n",
            "1.480478824085343 0.059167750478010706\n",
            "1.480477402821464 0.05924023673361514\n",
            "1.4804759815680448 0.05931272245576204\n",
            "1.4804745603250853 0.05938520764445531\n",
            "1.4804731390925852 0.05945769229969889\n",
            "1.4804717178705444 0.0595301764214967\n",
            "1.4804702966589631 0.05960266000985267\n",
            "1.480468875457841 0.05967514306477072\n",
            "1.4804674542671783 0.05974762558625479\n",
            "1.4804660330869748 0.05982010757430879\n",
            "1.4804646119172302 0.059892589028936655\n",
            "1.4804631907579449 0.05996506995014231\n",
            "1.4804617696091182 0.06003755033792967\n",
            "1.4804603484707506 0.060110030192302676\n",
            "1.4804589273428415 0.06018250951326524\n",
            "1.480457506225391 0.060254988300821294\n",
            "1.4804560851183994 0.060327466554974764\n",
            "1.4804546640218663 0.060399944275729575\n",
            "1.4804532429357917 0.060472421463089655\n",
            "1.4804518218601754 0.060544898117058925\n",
            "1.4804504007950174 0.06061737423764131\n",
            "1.4804489797403177 0.06068984982484074\n",
            "1.4804475586960761 0.06076232487866114\n",
            "1.4804461376622926 0.06083479939910644\n",
            "1.4804447166389672 0.06090727338618055\n",
            "1.4804432956260996 0.06097974683988741\n",
            "1.4804418746236898 0.06105221976023094\n",
            "1.480440453631738 0.06112469214721506\n",
            "1.4804390326502435 0.0611971640008437\n",
            "1.4804376116792068 0.061269635321120786\n",
            "1.4804361907186276 0.06134210610805024\n",
            "1.4804347697685059 0.061414576361636\n",
            "1.4804333488288415 0.06148704608188197\n",
            "1.4804319278996345 0.061559515268792095\n",
            "1.4804305069808847 0.061631983922370286\n",
            "1.4804290860725922 0.061704452042620477\n",
            "1.4804276651747568 0.06177691962954659\n",
            "1.4804262442873781 0.06184938668315254\n",
            "1.4804248234104567 0.06192185320344227\n",
            "1.4804234025439917 0.061994319190419686\n",
            "1.4804219816879838 0.06206678464408873\n",
            "1.4804205608424326 0.06213924956445331\n",
            "1.4804191400073379 0.06221171395151737\n",
            "1.4804177191826997 0.06228417780528482\n",
            "1.480416298368518 0.062356641125759595\n",
            "1.4804148775647927 0.06242910391294561\n",
            "1.4804134567715237 0.0625015661668468\n",
            "1.480412035988711 0.06257402788746708\n",
            "1.4804106152163543 0.06264648907481038\n",
            "1.4804091944544537 0.06271894972888062\n",
            "1.4804077737030092 0.06279140984968172\n",
            "1.4804063529620206 0.06286386943721763\n",
            "1.4804049322314876 0.06293632849149224\n",
            "1.4804035115114107 0.06300878701250949\n",
            "1.4804020908017894 0.06308124500027332\n",
            "1.4804006701026236 0.06315370245478763\n",
            "1.4803992494139133 0.06322615937605636\n",
            "1.4803978287356587 0.06329861576408342\n",
            "1.4803964080678593 0.06337107161887276\n",
            "1.4803949874105153 0.06344352694042828\n",
            "1.4803935667636265 0.0635159817287539\n",
            "1.480392146127193 0.06358843598385357\n",
            "1.4803907255012143 0.0636608897057312\n",
            "1.4803893048856906 0.06373334289439071\n",
            "1.480387884280622 0.06380579554983604\n",
            "1.4803864636860082 0.06387824767207109\n",
            "1.4803850431018493 0.06395069926109981\n",
            "1.4803836225281448 0.0640231503169261\n",
            "1.4803822019648951 0.0640956008395539\n",
            "1.4803807814121 0.06416805082898713\n",
            "1.480379360869759 0.0642405002852297\n",
            "1.4803779403378727 0.06431294920828556\n",
            "1.4803765198164407 0.06438539759815862\n",
            "1.4803750993054627 0.0644578454548528\n",
            "1.480373678804939 0.06453029277837202\n",
            "1.4803722583148695 0.06460273956872023\n",
            "1.4803708378352538 0.06467518582590133\n",
            "1.4803694173660922 0.06474763154991925\n",
            "1.4803679969073844 0.06482007674077792\n",
            "1.4803665764591303 0.06489252139848126\n",
            "1.48036515602133 0.06496496552303319\n",
            "1.4803637355939832 0.06503740911443763\n",
            "1.48036231517709 0.06510985217269852\n",
            "1.4803608947706501 0.06518229469781976\n",
            "1.4803594743746638 0.06525473668980529\n",
            "1.4803580539891306 0.06532717814865903\n"
          ]
        }
      ],
      "source": [
        "m = c = 0\n",
        "l = .0001\n",
        "n = len(x)\n",
        "\n",
        "for i in range(500):\n",
        "    ypred =( m*x) + c\n",
        "    Dm = (-2/n)* sum(x*(y-ypred))\n",
        "    Dc = (-2/n)* sum((y-ypred))\n",
        "\n",
        "    #update\n",
        "    m = m - (l*Dm)\n",
        "    c = c - (l*Dc)\n",
        "    print(m,c)"
      ]
    },
    {
      "cell_type": "markdown",
      "id": "292f0efb",
      "metadata": {
        "id": "292f0efb"
      },
      "source": [
        "# LinearRegression (least square)"
      ]
    },
    {
      "cell_type": "code",
      "execution_count": null,
      "id": "94eb12fb",
      "metadata": {
        "id": "94eb12fb"
      },
      "outputs": [],
      "source": [
        "from sklearn.linear_model import LinearRegression"
      ]
    },
    {
      "cell_type": "code",
      "execution_count": null,
      "id": "4515756b",
      "metadata": {
        "id": "4515756b"
      },
      "outputs": [],
      "source": [
        "reg = LinearRegression()"
      ]
    },
    {
      "cell_type": "code",
      "execution_count": null,
      "id": "0b382ef8",
      "metadata": {
        "colab": {
          "base_uri": "https://localhost:8080/",
          "height": 74
        },
        "id": "0b382ef8",
        "outputId": "b99a4efb-c2ab-480f-ae34-12a96123baa9"
      },
      "outputs": [
        {
          "output_type": "execute_result",
          "data": {
            "text/plain": [
              "LinearRegression()"
            ],
            "text/html": [
              "<style>#sk-container-id-1 {color: black;background-color: white;}#sk-container-id-1 pre{padding: 0;}#sk-container-id-1 div.sk-toggleable {background-color: white;}#sk-container-id-1 label.sk-toggleable__label {cursor: pointer;display: block;width: 100%;margin-bottom: 0;padding: 0.3em;box-sizing: border-box;text-align: center;}#sk-container-id-1 label.sk-toggleable__label-arrow:before {content: \"▸\";float: left;margin-right: 0.25em;color: #696969;}#sk-container-id-1 label.sk-toggleable__label-arrow:hover:before {color: black;}#sk-container-id-1 div.sk-estimator:hover label.sk-toggleable__label-arrow:before {color: black;}#sk-container-id-1 div.sk-toggleable__content {max-height: 0;max-width: 0;overflow: hidden;text-align: left;background-color: #f0f8ff;}#sk-container-id-1 div.sk-toggleable__content pre {margin: 0.2em;color: black;border-radius: 0.25em;background-color: #f0f8ff;}#sk-container-id-1 input.sk-toggleable__control:checked~div.sk-toggleable__content {max-height: 200px;max-width: 100%;overflow: auto;}#sk-container-id-1 input.sk-toggleable__control:checked~label.sk-toggleable__label-arrow:before {content: \"▾\";}#sk-container-id-1 div.sk-estimator input.sk-toggleable__control:checked~label.sk-toggleable__label {background-color: #d4ebff;}#sk-container-id-1 div.sk-label input.sk-toggleable__control:checked~label.sk-toggleable__label {background-color: #d4ebff;}#sk-container-id-1 input.sk-hidden--visually {border: 0;clip: rect(1px 1px 1px 1px);clip: rect(1px, 1px, 1px, 1px);height: 1px;margin: -1px;overflow: hidden;padding: 0;position: absolute;width: 1px;}#sk-container-id-1 div.sk-estimator {font-family: monospace;background-color: #f0f8ff;border: 1px dotted black;border-radius: 0.25em;box-sizing: border-box;margin-bottom: 0.5em;}#sk-container-id-1 div.sk-estimator:hover {background-color: #d4ebff;}#sk-container-id-1 div.sk-parallel-item::after {content: \"\";width: 100%;border-bottom: 1px solid gray;flex-grow: 1;}#sk-container-id-1 div.sk-label:hover label.sk-toggleable__label {background-color: #d4ebff;}#sk-container-id-1 div.sk-serial::before {content: \"\";position: absolute;border-left: 1px solid gray;box-sizing: border-box;top: 0;bottom: 0;left: 50%;z-index: 0;}#sk-container-id-1 div.sk-serial {display: flex;flex-direction: column;align-items: center;background-color: white;padding-right: 0.2em;padding-left: 0.2em;position: relative;}#sk-container-id-1 div.sk-item {position: relative;z-index: 1;}#sk-container-id-1 div.sk-parallel {display: flex;align-items: stretch;justify-content: center;background-color: white;position: relative;}#sk-container-id-1 div.sk-item::before, #sk-container-id-1 div.sk-parallel-item::before {content: \"\";position: absolute;border-left: 1px solid gray;box-sizing: border-box;top: 0;bottom: 0;left: 50%;z-index: -1;}#sk-container-id-1 div.sk-parallel-item {display: flex;flex-direction: column;z-index: 1;position: relative;background-color: white;}#sk-container-id-1 div.sk-parallel-item:first-child::after {align-self: flex-end;width: 50%;}#sk-container-id-1 div.sk-parallel-item:last-child::after {align-self: flex-start;width: 50%;}#sk-container-id-1 div.sk-parallel-item:only-child::after {width: 0;}#sk-container-id-1 div.sk-dashed-wrapped {border: 1px dashed gray;margin: 0 0.4em 0.5em 0.4em;box-sizing: border-box;padding-bottom: 0.4em;background-color: white;}#sk-container-id-1 div.sk-label label {font-family: monospace;font-weight: bold;display: inline-block;line-height: 1.2em;}#sk-container-id-1 div.sk-label-container {text-align: center;}#sk-container-id-1 div.sk-container {/* jupyter's `normalize.less` sets `[hidden] { display: none; }` but bootstrap.min.css set `[hidden] { display: none !important; }` so we also need the `!important` here to be able to override the default hidden behavior on the sphinx rendered scikit-learn.org. See: https://github.com/scikit-learn/scikit-learn/issues/21755 */display: inline-block !important;position: relative;}#sk-container-id-1 div.sk-text-repr-fallback {display: none;}</style><div id=\"sk-container-id-1\" class=\"sk-top-container\"><div class=\"sk-text-repr-fallback\"><pre>LinearRegression()</pre><b>In a Jupyter environment, please rerun this cell to show the HTML representation or trust the notebook. <br />On GitHub, the HTML representation is unable to render, please try loading this page with nbviewer.org.</b></div><div class=\"sk-container\" hidden><div class=\"sk-item\"><div class=\"sk-estimator sk-toggleable\"><input class=\"sk-toggleable__control sk-hidden--visually\" id=\"sk-estimator-id-1\" type=\"checkbox\" checked><label for=\"sk-estimator-id-1\" class=\"sk-toggleable__label sk-toggleable__label-arrow\">LinearRegression</label><div class=\"sk-toggleable__content\"><pre>LinearRegression()</pre></div></div></div></div></div>"
            ]
          },
          "metadata": {},
          "execution_count": 13
        }
      ],
      "source": [
        "reg.fit(df[['x']], y)"
      ]
    },
    {
      "cell_type": "code",
      "execution_count": null,
      "id": "ef4eb237",
      "metadata": {
        "colab": {
          "base_uri": "https://localhost:8080/"
        },
        "id": "ef4eb237",
        "outputId": "c8f42914-b18d-495b-9dfa-4a68714d1cae"
      },
      "outputs": [
        {
          "output_type": "stream",
          "name": "stderr",
          "text": [
            "/usr/local/lib/python3.10/dist-packages/sklearn/base.py:439: UserWarning: X does not have valid feature names, but LinearRegression was fitted with feature names\n",
            "  warnings.warn(\n"
          ]
        },
        {
          "output_type": "execute_result",
          "data": {
            "text/plain": [
              "array([72.9323307])"
            ]
          },
          "metadata": {},
          "execution_count": 14
        }
      ],
      "source": [
        "reg.predict([[48.955889]]) #least square"
      ]
    },
    {
      "cell_type": "code",
      "execution_count": null,
      "id": "4fad1765",
      "metadata": {
        "colab": {
          "base_uri": "https://localhost:8080/"
        },
        "id": "4fad1765",
        "outputId": "e58daaf4-8020-4db5-ac0f-c4e26f2ff5a8"
      },
      "outputs": [
        {
          "output_type": "execute_result",
          "data": {
            "text/plain": [
              "72.53757174949655"
            ]
          },
          "metadata": {},
          "execution_count": 15
        }
      ],
      "source": [
        "#gradient decent\n",
        "48.955889 * m + c"
      ]
    },
    {
      "cell_type": "code",
      "execution_count": null,
      "id": "61680dea",
      "metadata": {
        "colab": {
          "base_uri": "https://localhost:8080/"
        },
        "id": "61680dea",
        "outputId": "a684a6a3-50f4-4cba-e5ca-c196da25652c"
      },
      "outputs": [
        {
          "output_type": "execute_result",
          "data": {
            "text/plain": [
              "array([72.9323307])"
            ]
          },
          "metadata": {},
          "execution_count": 16
        }
      ],
      "source": [
        "((reg.coef_ * 48.955889) + reg.intercept_)"
      ]
    },
    {
      "cell_type": "markdown",
      "source": [
        "# Bias - varience"
      ],
      "metadata": {
        "id": "VtXmhB_i7Pgf"
      },
      "id": "VtXmhB_i7Pgf"
    },
    {
      "cell_type": "code",
      "source": [
        "from mlxtend.evaluate import bias_variance_decomp\n",
        "from sklearn.model_selection import train_test_split"
      ],
      "metadata": {
        "id": "H610v1nVvWOG"
      },
      "id": "H610v1nVvWOG",
      "execution_count": 24,
      "outputs": []
    },
    {
      "cell_type": "code",
      "source": [
        "model = LinearRegression()"
      ],
      "metadata": {
        "id": "8p0bM6P9wetI"
      },
      "id": "8p0bM6P9wetI",
      "execution_count": 30,
      "outputs": []
    },
    {
      "cell_type": "code",
      "source": [
        "x"
      ],
      "metadata": {
        "colab": {
          "base_uri": "https://localhost:8080/"
        },
        "id": "24AKYSqq1nct",
        "outputId": "1b4f9238-9832-43b0-c0ea-f3fc74c9c99c"
      },
      "id": "24AKYSqq1nct",
      "execution_count": 31,
      "outputs": [
        {
          "output_type": "execute_result",
          "data": {
            "text/plain": [
              "0     48.955889\n",
              "1     44.687196\n",
              "2     60.297327\n",
              "3     45.618644\n",
              "4     38.816818\n",
              "        ...    \n",
              "94    50.030174\n",
              "95    49.239765\n",
              "96    50.039576\n",
              "97    48.149859\n",
              "98    25.128485\n",
              "Name: x, Length: 99, dtype: float64"
            ]
          },
          "metadata": {},
          "execution_count": 31
        }
      ]
    },
    {
      "cell_type": "code",
      "source": [
        "y"
      ],
      "metadata": {
        "colab": {
          "base_uri": "https://localhost:8080/"
        },
        "id": "85enJwSf1r5r",
        "outputId": "5a404816-07ba-4bdd-d72b-9b7629cf15b4"
      },
      "id": "85enJwSf1r5r",
      "execution_count": 32,
      "outputs": [
        {
          "output_type": "execute_result",
          "data": {
            "text/plain": [
              "0     60.723602\n",
              "1     82.892504\n",
              "2     97.379897\n",
              "3     48.847153\n",
              "4     56.877213\n",
              "        ...    \n",
              "94    81.536991\n",
              "95    72.111832\n",
              "96    85.232007\n",
              "97    66.224958\n",
              "98    53.454394\n",
              "Name: y, Length: 99, dtype: float64"
            ]
          },
          "metadata": {},
          "execution_count": 32
        }
      ]
    },
    {
      "cell_type": "code",
      "source": [
        "xx = x.values.reshape(-1, 1)\n",
        "yy = y.values"
      ],
      "metadata": {
        "id": "GbvWCYl11u7p"
      },
      "id": "GbvWCYl11u7p",
      "execution_count": 52,
      "outputs": []
    },
    {
      "cell_type": "code",
      "source": [
        "X_train, X_test, y_train, y_test = train_test_split(xx, yy, test_size=0.2, random_state=42)"
      ],
      "metadata": {
        "id": "lvw2aJJU4keY"
      },
      "id": "lvw2aJJU4keY",
      "execution_count": 53,
      "outputs": []
    },
    {
      "cell_type": "code",
      "execution_count": 54,
      "id": "f591705f",
      "metadata": {
        "id": "f591705f"
      },
      "outputs": [],
      "source": [
        "mse , bias , varience = bias_variance_decomp(model, X_train, y_train, X_test, y_test,loss=\"mse\")"
      ]
    },
    {
      "cell_type": "code",
      "source": [
        "print(mse)\n",
        "print(bias)\n",
        "print(varience)"
      ],
      "metadata": {
        "colab": {
          "base_uri": "https://localhost:8080/"
        },
        "id": "kFwFYFyq1JKE",
        "outputId": "b6ef2bad-3d02-438e-d396-c529e24dbb96"
      },
      "id": "kFwFYFyq1JKE",
      "execution_count": 56,
      "outputs": [
        {
          "output_type": "stream",
          "name": "stdout",
          "text": [
            "74.82326740853811\n",
            "71.30254737633287\n",
            "3.520720032205177\n"
          ]
        }
      ]
    },
    {
      "cell_type": "code",
      "source": [],
      "metadata": {
        "id": "O9VRUPNS5VR1"
      },
      "id": "O9VRUPNS5VR1",
      "execution_count": null,
      "outputs": []
    }
  ],
  "metadata": {
    "kernelspec": {
      "display_name": "Python 3 (ipykernel)",
      "language": "python",
      "name": "python3"
    },
    "language_info": {
      "codemirror_mode": {
        "name": "ipython",
        "version": 3
      },
      "file_extension": ".py",
      "mimetype": "text/x-python",
      "name": "python",
      "nbconvert_exporter": "python",
      "pygments_lexer": "ipython3",
      "version": "3.9.13"
    },
    "colab": {
      "provenance": []
    }
  },
  "nbformat": 4,
  "nbformat_minor": 5
}